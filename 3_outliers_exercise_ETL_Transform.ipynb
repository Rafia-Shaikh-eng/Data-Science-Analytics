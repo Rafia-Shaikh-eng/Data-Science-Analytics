{
  "cells": [
    {
      "cell_type": "markdown",
      "metadata": {
        "id": "view-in-github",
        "colab_type": "text"
      },
      "source": [
        "<a href=\"https://colab.research.google.com/github/Rafia-Shaikh-eng/Data-Science-Analytics/blob/main/3_outliers_exercise_ETL_Transform.ipynb\" target=\"_parent\"><img src=\"https://colab.research.google.com/assets/colab-badge.svg\" alt=\"Open In Colab\"/></a>"
      ]
    },
    {
      "cell_type": "markdown",
      "metadata": {
        "id": "_L18Ez-iWzog"
      },
      "source": [
        "# Finding Outliers\n",
        "\n",
        "In this exercise, you'll practice looking for outliers. You'll look at the World Bank GDP and population data sets. First, you'll look at the data from a one-dimensional perspective and then a two-dimensional perspective.\n",
        "\n",
        "Run the code below to import the data sets and prepare the data for analysis. The code:\n",
        "* reads in the data sets\n",
        "* reshapes the datasets to a long format\n",
        "* uses back fill and forward fill to fill in missing values\n",
        "* merges the gdp and population data together\n",
        "* shows the first 10 values in the data set"
      ]
    },
    {
      "cell_type": "code",
      "execution_count": 1,
      "metadata": {
        "colab": {
          "base_uri": "https://localhost:8080/",
          "height": 363
        },
        "id": "wk1R6rlLWzop",
        "outputId": "0c27641c-b7d8-4701-b0da-369aac9bd44c"
      },
      "outputs": [
        {
          "output_type": "execute_result",
          "data": {
            "text/plain": [
              "               Country Name  year           gdp   population\n",
              "14784                 Aruba  2016  2.584464e+09     104822.0\n",
              "14785           Afghanistan  2016  1.946902e+10   34656032.0\n",
              "14786                Angola  2016  9.533720e+10   28813463.0\n",
              "14787               Albania  2016  1.188368e+10    2876101.0\n",
              "14788               Andorra  2016  2.877312e+09      77281.0\n",
              "14789            Arab World  2016  2.500164e+12  406452690.0\n",
              "14790  United Arab Emirates  2016  3.570451e+11    9269612.0\n",
              "14791             Argentina  2016  5.548609e+11   43847430.0\n",
              "14792               Armenia  2016  1.054614e+10    2924816.0\n",
              "14793        American Samoa  2016  6.580000e+08      55599.0"
            ],
            "text/html": [
              "\n",
              "  <div id=\"df-e1946bf3-55c6-4118-a654-586bda83e667\" class=\"colab-df-container\">\n",
              "    <div>\n",
              "<style scoped>\n",
              "    .dataframe tbody tr th:only-of-type {\n",
              "        vertical-align: middle;\n",
              "    }\n",
              "\n",
              "    .dataframe tbody tr th {\n",
              "        vertical-align: top;\n",
              "    }\n",
              "\n",
              "    .dataframe thead th {\n",
              "        text-align: right;\n",
              "    }\n",
              "</style>\n",
              "<table border=\"1\" class=\"dataframe\">\n",
              "  <thead>\n",
              "    <tr style=\"text-align: right;\">\n",
              "      <th></th>\n",
              "      <th>Country Name</th>\n",
              "      <th>year</th>\n",
              "      <th>gdp</th>\n",
              "      <th>population</th>\n",
              "    </tr>\n",
              "  </thead>\n",
              "  <tbody>\n",
              "    <tr>\n",
              "      <th>14784</th>\n",
              "      <td>Aruba</td>\n",
              "      <td>2016</td>\n",
              "      <td>2.584464e+09</td>\n",
              "      <td>104822.0</td>\n",
              "    </tr>\n",
              "    <tr>\n",
              "      <th>14785</th>\n",
              "      <td>Afghanistan</td>\n",
              "      <td>2016</td>\n",
              "      <td>1.946902e+10</td>\n",
              "      <td>34656032.0</td>\n",
              "    </tr>\n",
              "    <tr>\n",
              "      <th>14786</th>\n",
              "      <td>Angola</td>\n",
              "      <td>2016</td>\n",
              "      <td>9.533720e+10</td>\n",
              "      <td>28813463.0</td>\n",
              "    </tr>\n",
              "    <tr>\n",
              "      <th>14787</th>\n",
              "      <td>Albania</td>\n",
              "      <td>2016</td>\n",
              "      <td>1.188368e+10</td>\n",
              "      <td>2876101.0</td>\n",
              "    </tr>\n",
              "    <tr>\n",
              "      <th>14788</th>\n",
              "      <td>Andorra</td>\n",
              "      <td>2016</td>\n",
              "      <td>2.877312e+09</td>\n",
              "      <td>77281.0</td>\n",
              "    </tr>\n",
              "    <tr>\n",
              "      <th>14789</th>\n",
              "      <td>Arab World</td>\n",
              "      <td>2016</td>\n",
              "      <td>2.500164e+12</td>\n",
              "      <td>406452690.0</td>\n",
              "    </tr>\n",
              "    <tr>\n",
              "      <th>14790</th>\n",
              "      <td>United Arab Emirates</td>\n",
              "      <td>2016</td>\n",
              "      <td>3.570451e+11</td>\n",
              "      <td>9269612.0</td>\n",
              "    </tr>\n",
              "    <tr>\n",
              "      <th>14791</th>\n",
              "      <td>Argentina</td>\n",
              "      <td>2016</td>\n",
              "      <td>5.548609e+11</td>\n",
              "      <td>43847430.0</td>\n",
              "    </tr>\n",
              "    <tr>\n",
              "      <th>14792</th>\n",
              "      <td>Armenia</td>\n",
              "      <td>2016</td>\n",
              "      <td>1.054614e+10</td>\n",
              "      <td>2924816.0</td>\n",
              "    </tr>\n",
              "    <tr>\n",
              "      <th>14793</th>\n",
              "      <td>American Samoa</td>\n",
              "      <td>2016</td>\n",
              "      <td>6.580000e+08</td>\n",
              "      <td>55599.0</td>\n",
              "    </tr>\n",
              "  </tbody>\n",
              "</table>\n",
              "</div>\n",
              "    <div class=\"colab-df-buttons\">\n",
              "\n",
              "  <div class=\"colab-df-container\">\n",
              "    <button class=\"colab-df-convert\" onclick=\"convertToInteractive('df-e1946bf3-55c6-4118-a654-586bda83e667')\"\n",
              "            title=\"Convert this dataframe to an interactive table.\"\n",
              "            style=\"display:none;\">\n",
              "\n",
              "  <svg xmlns=\"http://www.w3.org/2000/svg\" height=\"24px\" viewBox=\"0 -960 960 960\">\n",
              "    <path d=\"M120-120v-720h720v720H120Zm60-500h600v-160H180v160Zm220 220h160v-160H400v160Zm0 220h160v-160H400v160ZM180-400h160v-160H180v160Zm440 0h160v-160H620v160ZM180-180h160v-160H180v160Zm440 0h160v-160H620v160Z\"/>\n",
              "  </svg>\n",
              "    </button>\n",
              "\n",
              "  <style>\n",
              "    .colab-df-container {\n",
              "      display:flex;\n",
              "      gap: 12px;\n",
              "    }\n",
              "\n",
              "    .colab-df-convert {\n",
              "      background-color: #E8F0FE;\n",
              "      border: none;\n",
              "      border-radius: 50%;\n",
              "      cursor: pointer;\n",
              "      display: none;\n",
              "      fill: #1967D2;\n",
              "      height: 32px;\n",
              "      padding: 0 0 0 0;\n",
              "      width: 32px;\n",
              "    }\n",
              "\n",
              "    .colab-df-convert:hover {\n",
              "      background-color: #E2EBFA;\n",
              "      box-shadow: 0px 1px 2px rgba(60, 64, 67, 0.3), 0px 1px 3px 1px rgba(60, 64, 67, 0.15);\n",
              "      fill: #174EA6;\n",
              "    }\n",
              "\n",
              "    .colab-df-buttons div {\n",
              "      margin-bottom: 4px;\n",
              "    }\n",
              "\n",
              "    [theme=dark] .colab-df-convert {\n",
              "      background-color: #3B4455;\n",
              "      fill: #D2E3FC;\n",
              "    }\n",
              "\n",
              "    [theme=dark] .colab-df-convert:hover {\n",
              "      background-color: #434B5C;\n",
              "      box-shadow: 0px 1px 3px 1px rgba(0, 0, 0, 0.15);\n",
              "      filter: drop-shadow(0px 1px 2px rgba(0, 0, 0, 0.3));\n",
              "      fill: #FFFFFF;\n",
              "    }\n",
              "  </style>\n",
              "\n",
              "    <script>\n",
              "      const buttonEl =\n",
              "        document.querySelector('#df-e1946bf3-55c6-4118-a654-586bda83e667 button.colab-df-convert');\n",
              "      buttonEl.style.display =\n",
              "        google.colab.kernel.accessAllowed ? 'block' : 'none';\n",
              "\n",
              "      async function convertToInteractive(key) {\n",
              "        const element = document.querySelector('#df-e1946bf3-55c6-4118-a654-586bda83e667');\n",
              "        const dataTable =\n",
              "          await google.colab.kernel.invokeFunction('convertToInteractive',\n",
              "                                                    [key], {});\n",
              "        if (!dataTable) return;\n",
              "\n",
              "        const docLinkHtml = 'Like what you see? Visit the ' +\n",
              "          '<a target=\"_blank\" href=https://colab.research.google.com/notebooks/data_table.ipynb>data table notebook</a>'\n",
              "          + ' to learn more about interactive tables.';\n",
              "        element.innerHTML = '';\n",
              "        dataTable['output_type'] = 'display_data';\n",
              "        await google.colab.output.renderOutput(dataTable, element);\n",
              "        const docLink = document.createElement('div');\n",
              "        docLink.innerHTML = docLinkHtml;\n",
              "        element.appendChild(docLink);\n",
              "      }\n",
              "    </script>\n",
              "  </div>\n",
              "\n",
              "\n",
              "<div id=\"df-52d2ee73-e69d-430e-9976-ccd82956910c\">\n",
              "  <button class=\"colab-df-quickchart\" onclick=\"quickchart('df-52d2ee73-e69d-430e-9976-ccd82956910c')\"\n",
              "            title=\"Suggest charts.\"\n",
              "            style=\"display:none;\">\n",
              "\n",
              "<svg xmlns=\"http://www.w3.org/2000/svg\" height=\"24px\"viewBox=\"0 0 24 24\"\n",
              "     width=\"24px\">\n",
              "    <g>\n",
              "        <path d=\"M19 3H5c-1.1 0-2 .9-2 2v14c0 1.1.9 2 2 2h14c1.1 0 2-.9 2-2V5c0-1.1-.9-2-2-2zM9 17H7v-7h2v7zm4 0h-2V7h2v10zm4 0h-2v-4h2v4z\"/>\n",
              "    </g>\n",
              "</svg>\n",
              "  </button>\n",
              "\n",
              "<style>\n",
              "  .colab-df-quickchart {\n",
              "      --bg-color: #E8F0FE;\n",
              "      --fill-color: #1967D2;\n",
              "      --hover-bg-color: #E2EBFA;\n",
              "      --hover-fill-color: #174EA6;\n",
              "      --disabled-fill-color: #AAA;\n",
              "      --disabled-bg-color: #DDD;\n",
              "  }\n",
              "\n",
              "  [theme=dark] .colab-df-quickchart {\n",
              "      --bg-color: #3B4455;\n",
              "      --fill-color: #D2E3FC;\n",
              "      --hover-bg-color: #434B5C;\n",
              "      --hover-fill-color: #FFFFFF;\n",
              "      --disabled-bg-color: #3B4455;\n",
              "      --disabled-fill-color: #666;\n",
              "  }\n",
              "\n",
              "  .colab-df-quickchart {\n",
              "    background-color: var(--bg-color);\n",
              "    border: none;\n",
              "    border-radius: 50%;\n",
              "    cursor: pointer;\n",
              "    display: none;\n",
              "    fill: var(--fill-color);\n",
              "    height: 32px;\n",
              "    padding: 0;\n",
              "    width: 32px;\n",
              "  }\n",
              "\n",
              "  .colab-df-quickchart:hover {\n",
              "    background-color: var(--hover-bg-color);\n",
              "    box-shadow: 0 1px 2px rgba(60, 64, 67, 0.3), 0 1px 3px 1px rgba(60, 64, 67, 0.15);\n",
              "    fill: var(--button-hover-fill-color);\n",
              "  }\n",
              "\n",
              "  .colab-df-quickchart-complete:disabled,\n",
              "  .colab-df-quickchart-complete:disabled:hover {\n",
              "    background-color: var(--disabled-bg-color);\n",
              "    fill: var(--disabled-fill-color);\n",
              "    box-shadow: none;\n",
              "  }\n",
              "\n",
              "  .colab-df-spinner {\n",
              "    border: 2px solid var(--fill-color);\n",
              "    border-color: transparent;\n",
              "    border-bottom-color: var(--fill-color);\n",
              "    animation:\n",
              "      spin 1s steps(1) infinite;\n",
              "  }\n",
              "\n",
              "  @keyframes spin {\n",
              "    0% {\n",
              "      border-color: transparent;\n",
              "      border-bottom-color: var(--fill-color);\n",
              "      border-left-color: var(--fill-color);\n",
              "    }\n",
              "    20% {\n",
              "      border-color: transparent;\n",
              "      border-left-color: var(--fill-color);\n",
              "      border-top-color: var(--fill-color);\n",
              "    }\n",
              "    30% {\n",
              "      border-color: transparent;\n",
              "      border-left-color: var(--fill-color);\n",
              "      border-top-color: var(--fill-color);\n",
              "      border-right-color: var(--fill-color);\n",
              "    }\n",
              "    40% {\n",
              "      border-color: transparent;\n",
              "      border-right-color: var(--fill-color);\n",
              "      border-top-color: var(--fill-color);\n",
              "    }\n",
              "    60% {\n",
              "      border-color: transparent;\n",
              "      border-right-color: var(--fill-color);\n",
              "    }\n",
              "    80% {\n",
              "      border-color: transparent;\n",
              "      border-right-color: var(--fill-color);\n",
              "      border-bottom-color: var(--fill-color);\n",
              "    }\n",
              "    90% {\n",
              "      border-color: transparent;\n",
              "      border-bottom-color: var(--fill-color);\n",
              "    }\n",
              "  }\n",
              "</style>\n",
              "\n",
              "  <script>\n",
              "    async function quickchart(key) {\n",
              "      const quickchartButtonEl =\n",
              "        document.querySelector('#' + key + ' button');\n",
              "      quickchartButtonEl.disabled = true;  // To prevent multiple clicks.\n",
              "      quickchartButtonEl.classList.add('colab-df-spinner');\n",
              "      try {\n",
              "        const charts = await google.colab.kernel.invokeFunction(\n",
              "            'suggestCharts', [key], {});\n",
              "      } catch (error) {\n",
              "        console.error('Error during call to suggestCharts:', error);\n",
              "      }\n",
              "      quickchartButtonEl.classList.remove('colab-df-spinner');\n",
              "      quickchartButtonEl.classList.add('colab-df-quickchart-complete');\n",
              "    }\n",
              "    (() => {\n",
              "      let quickchartButtonEl =\n",
              "        document.querySelector('#df-52d2ee73-e69d-430e-9976-ccd82956910c button');\n",
              "      quickchartButtonEl.style.display =\n",
              "        google.colab.kernel.accessAllowed ? 'block' : 'none';\n",
              "    })();\n",
              "  </script>\n",
              "</div>\n",
              "    </div>\n",
              "  </div>\n"
            ]
          },
          "metadata": {},
          "execution_count": 1
        }
      ],
      "source": [
        "import pandas as pd\n",
        "import numpy as np\n",
        "\n",
        "# read in the projects data set and do basic wrangling\n",
        "gdp = pd.read_csv('/content/gdp_data.csv', skiprows=4)\n",
        "gdp.drop(['Unnamed: 62', 'Country Code', 'Indicator Name', 'Indicator Code'], inplace=True, axis=1)\n",
        "population = pd.read_csv('/content/population_data.csv', skiprows=4)\n",
        "population.drop(['Unnamed: 62', 'Country Code', 'Indicator Name', 'Indicator Code'], inplace=True, axis=1)\n",
        "\n",
        "\n",
        "# Reshape the data sets so that they are in long format\n",
        "gdp_melt = gdp.melt(id_vars=['Country Name'],\n",
        "                    var_name='year',\n",
        "                    value_name='gdp')\n",
        "\n",
        "# Use back fill and forward fill to fill in missing gdp values\n",
        "gdp_melt['gdp'] = gdp_melt.sort_values('year').groupby('Country Name')['gdp'].fillna(method='ffill').fillna(method='bfill')\n",
        "\n",
        "population_melt = population.melt(id_vars=['Country Name'],\n",
        "                                  var_name='year',\n",
        "                                  value_name='population')\n",
        "\n",
        "# Use back fill and forward fill to fill in missing population values\n",
        "population_melt['population'] = population_melt.sort_values('year').groupby('Country Name')['population'].fillna(method='ffill').fillna(method='bfill')\n",
        "\n",
        "# merge the population and gdp data together into one data frame\n",
        "df_country = gdp_melt.merge(population_melt, on=('Country Name', 'year'))\n",
        "\n",
        "# filter data for the year 2016\n",
        "df_2016 = df_country[df_country['year'] == '2016']\n",
        "\n",
        "# see what the data looks like\n",
        "df_2016.head(10)"
      ]
    },
    {
      "cell_type": "markdown",
      "metadata": {
        "id": "-T-H5LmOWzou"
      },
      "source": [
        "# Exercise\n",
        "\n",
        "Explore the data set to identify outliers using the Tukey rule. Follow the TODOs."
      ]
    },
    {
      "cell_type": "code",
      "execution_count": null,
      "metadata": {
        "id": "sRqi9AhBWzov"
      },
      "outputs": [],
      "source": [
        "import matplotlib.pyplot as plt\n",
        "%matplotlib inline\n",
        "\n",
        "# TODO: Make a boxplot of the population data for the year 2016\n",
        "\n",
        "# TODO: Make a boxplot of the gdp data for the year 2016\n"
      ]
    },
    {
      "cell_type": "markdown",
      "metadata": {
        "id": "B-eDUpLcWzow"
      },
      "source": [
        "Use the Tukey rule to determine what values of the population data are outliers for the year 2016. The Tukey rule finds outliers in one-dimension. The steps are:\n",
        "\n",
        "* Find the first quartile (ie .25 quantile)\n",
        "* Find the third quartile (ie .75 quantile)\n",
        "* Calculate the inter-quartile range (Q3 - Q1)\n",
        "* Any value that is greater than Q3 + 1.5 * IQR is an outlier\n",
        "* Any value that is less than Qe - 1.5 * IQR is an outlier"
      ]
    },
    {
      "cell_type": "code",
      "execution_count": null,
      "metadata": {
        "id": "07HTMPzBWzow"
      },
      "outputs": [],
      "source": [
        "# TODO: Calculate the first quartile of the population values for 2016\n",
        "# HINT: you can use the pandas quantile method\n",
        "Q1 = None\n",
        "\n",
        "# TODO: Calculate the third quartile of the population values for 2016\n",
        "Q3 = None\n",
        "\n",
        "# TODO: Calculate the interquartile range Q3 - Q1\n",
        "IQR = None\n",
        "\n",
        "# TODO: Calculate the maximum value and minimum values according to the Tukey rule\n",
        "# max_value is Q3 + 1.5 * IQR while min_value is Q1 - 1.5 * IQR\n",
        "max_value = None\n",
        "min_value = None\n",
        "\n",
        "# TODO: filter the population_2016 data for population values that are greater than max_value or less than min_value\n",
        "population_outliers = None\n",
        "population_outliers"
      ]
    },
    {
      "cell_type": "markdown",
      "metadata": {
        "id": "nffCusB_Wzox"
      },
      "source": [
        "Many of these aren't countries at all but rather aggregates of various countries. Notice as well that the min_value calculated above was negative. According to the Tukey rule, there are no minimum population outliers in this data set. If you were going to study how population and gdp correlate, you might want to remove these aggregated regions from the data set.\n",
        "\n",
        "Next, use the Tukey method to do the same analysis for gdp."
      ]
    },
    {
      "cell_type": "code",
      "execution_count": null,
      "metadata": {
        "id": "lMKfvB4cWzoy"
      },
      "outputs": [],
      "source": [
        "# TODO: Calculate the first quartile of the population values for 2016\n",
        "# HINT: you can use the pandas quantile method\n",
        "Q1 = None\n",
        "\n",
        "# TODO: Calculate the third quartile of the population values for 2016\n",
        "Q3 = None\n",
        "\n",
        "# TODP: Calculate the interquartile range Q3 - Q1\n",
        "IQR = None\n",
        "\n",
        "# TODO: Calculate the maximum value and minimum values according to the Tukey rule\n",
        "# max_value is Q3 + 1.5 * IQR while min_value is Q1 - 1.5 * IQR\n",
        "max_value = None\n",
        "min_value = None\n",
        "\n",
        "# TODO: filter the population_2016 data for population values that are greater than max_value or less than min_value\n",
        "gdp_outliers = None\n",
        "gdp_outliers"
      ]
    },
    {
      "cell_type": "markdown",
      "metadata": {
        "id": "NHUVuAf6Wzo0"
      },
      "source": [
        "Clearly many of these outliers are due to regional data getting aggregated together.\n",
        "\n",
        "Remove these data points and redo the analysis. There's a list provided below of the 'Country Name' values that are not actually countries."
      ]
    },
    {
      "cell_type": "code",
      "execution_count": null,
      "metadata": {
        "id": "K0AOslxNWzo1"
      },
      "outputs": [],
      "source": [
        "# TODO: remove the rows from the data that have Country Name values in the non_countries list\n",
        "# Store the filter results back into the df_2016 variable\n",
        "\n",
        "non_countries = ['World',\n",
        " 'High income',\n",
        " 'OECD members',\n",
        " 'Post-demographic dividend',\n",
        " 'IDA & IBRD total',\n",
        " 'Low & middle income',\n",
        " 'Middle income',\n",
        " 'IBRD only',\n",
        " 'East Asia & Pacific',\n",
        " 'Europe & Central Asia',\n",
        " 'North America',\n",
        " 'Upper middle income',\n",
        " 'Late-demographic dividend',\n",
        " 'European Union',\n",
        " 'East Asia & Pacific (excluding high income)',\n",
        " 'East Asia & Pacific (IDA & IBRD countries)',\n",
        " 'Euro area',\n",
        " 'Early-demographic dividend',\n",
        " 'Lower middle income',\n",
        " 'Latin America & Caribbean',\n",
        " 'Latin America & the Caribbean (IDA & IBRD countries)',\n",
        " 'Latin America & Caribbean (excluding high income)',\n",
        " 'Europe & Central Asia (IDA & IBRD countries)',\n",
        " 'Middle East & North Africa',\n",
        " 'Europe & Central Asia (excluding high income)',\n",
        " 'South Asia (IDA & IBRD)',\n",
        " 'South Asia',\n",
        " 'Arab World',\n",
        " 'IDA total',\n",
        " 'Sub-Saharan Africa',\n",
        " 'Sub-Saharan Africa (IDA & IBRD countries)',\n",
        " 'Sub-Saharan Africa (excluding high income)',\n",
        " 'Middle East & North Africa (excluding high income)',\n",
        " 'Middle East & North Africa (IDA & IBRD countries)',\n",
        " 'Central Europe and the Baltics',\n",
        " 'Pre-demographic dividend',\n",
        " 'IDA only',\n",
        " 'Least developed countries: UN classification',\n",
        " 'IDA blend',\n",
        " 'Fragile and conflict affected situations',\n",
        " 'Heavily indebted poor countries (HIPC)',\n",
        " 'Low income',\n",
        " 'Small states',\n",
        " 'Other small states',\n",
        " 'Not classified',\n",
        " 'Caribbean small states',\n",
        " 'Pacific island small states']\n"
      ]
    },
    {
      "cell_type": "code",
      "execution_count": null,
      "metadata": {
        "id": "2oFraXJJWzo4"
      },
      "outputs": [],
      "source": [
        "# TODO: Re-rerun the Tukey code with this filtered data to find population outliers\n",
        "\n",
        "population_outliers = None\n",
        "population_outliers"
      ]
    },
    {
      "cell_type": "code",
      "execution_count": null,
      "metadata": {
        "id": "zfABo2hEWzo5"
      },
      "outputs": [],
      "source": [
        "# TODO: Re-rerun the Tukey code with this filtered data to find gdp outliers in 2016\n",
        "\n",
        "gdp_outliers = None\n",
        "gdp_outliers"
      ]
    },
    {
      "cell_type": "markdown",
      "metadata": {
        "id": "2Kz-_YvOWzo6"
      },
      "source": [
        "Next, write code to determine which countries are in the population_outliers array and in the gdp_outliers array."
      ]
    },
    {
      "cell_type": "code",
      "execution_count": null,
      "metadata": {
        "id": "ZhvAvWHwWzo7"
      },
      "outputs": [],
      "source": [
        "# TODO: Find country names that are in both the population_outliers and the gdp_outliers\n",
        "# HINT: you can use the pandas intersection() method and python set() and list() methods\n"
      ]
    },
    {
      "cell_type": "markdown",
      "metadata": {
        "id": "W-Ldw7oFWzo8"
      },
      "source": [
        "These countries have both relatively high populations and high GDPs. That might be an indication that although these countries have high values for both gdp and population, they're not true outliers when looking at these values from a two-dimensional perspective.\n",
        "\n",
        "Now write code to find countries in population_outliers but not in the gdp_outliers."
      ]
    },
    {
      "cell_type": "code",
      "execution_count": null,
      "metadata": {
        "id": "j639LoQoWzo9"
      },
      "outputs": [],
      "source": [
        "# TODO: Find country names that are in the population outliers list but not the gdp outliers list\n",
        "# HINT: Python's set() and list() methods should be helpful\n"
      ]
    },
    {
      "cell_type": "markdown",
      "metadata": {
        "id": "PJsC6cSPWzo9"
      },
      "source": [
        "These countries are population outliers but not GDP outliers. If looking at outliers from a two-dimensional perspective, there's some indication that these countries might be outliers.\n",
        "\n",
        "And finally, write code to find countries that are in the gdp_outliers array but not the population_outliers array."
      ]
    },
    {
      "cell_type": "code",
      "execution_count": null,
      "metadata": {
        "id": "OIMEujBvWzo-"
      },
      "outputs": [],
      "source": [
        "# TODO: Find country names that are in the gdp outliers list but not the population outliers list\n",
        "# HINT: Python's set() and list() methods should be helpful\n"
      ]
    },
    {
      "cell_type": "markdown",
      "metadata": {
        "id": "5K2zJyQ1Wzo-"
      },
      "source": [
        "On the other hand, these countries have high GDP but are not population outliers.\n",
        "\n",
        "\n",
        "# Demo: 2-Dimensional Analysis\n",
        "\n",
        "Next, look at the data from a two-dimensional perspective. You don't have to do anything in this section other than run the code cells below. This gives a basic example of how outlier removal affects machine learning algorithms.\n",
        "\n",
        "The next code cell plots the GDP vs Population data including the country name of each point."
      ]
    },
    {
      "cell_type": "code",
      "execution_count": null,
      "metadata": {
        "id": "nOu_FH3HWzo_"
      },
      "outputs": [],
      "source": [
        "# run the code cell below\n",
        "x = list(df_2016['population'])\n",
        "y = list(df_2016['gdp'])\n",
        "text = df_2016['Country Name']\n",
        "\n",
        "fig, ax = plt.subplots(figsize=(15,10))\n",
        "ax.scatter(x, y)\n",
        "plt.title('GDP vs Population')\n",
        "plt.xlabel('population')\n",
        "plt.ylabel('GDP')\n",
        "for i, txt in enumerate(text):\n",
        "    ax.annotate(txt, (x[i],y[i]))"
      ]
    },
    {
      "cell_type": "markdown",
      "metadata": {
        "id": "bb2xA13oWzo_"
      },
      "source": [
        "The United States, China, and India have such larger values that it's hard to see this data. Let's take those countries out for a moment and look at the data again."
      ]
    },
    {
      "cell_type": "code",
      "execution_count": null,
      "metadata": {
        "id": "nzeu-iSdWzpA"
      },
      "outputs": [],
      "source": [
        "# Run the code below to see the results\n",
        "df_no_large = (df_2016['Country Name'] != 'United States') & (df_2016['Country Name'] != 'India') & (df_2016['Country Name'] != 'China')\n",
        "x = list(df_2016[df_no_large]['population'])\n",
        "y = list(df_2016[df_no_large]['gdp'])\n",
        "text = df_2016[df_no_large]['Country Name']\n",
        "\n",
        "fig, ax = plt.subplots(figsize=(15,10))\n",
        "ax.scatter(x, y)\n",
        "plt.title('GDP vs Population')\n",
        "plt.xlabel('population')\n",
        "plt.ylabel('GDP')\n",
        "for i, txt in enumerate(text):\n",
        "    ax.annotate(txt, (x[i],y[i]))"
      ]
    },
    {
      "cell_type": "markdown",
      "metadata": {
        "id": "cbwHrOdJWzpA"
      },
      "source": [
        "Run the code below to build a simple linear regression model with the population and gdp data for 2016."
      ]
    },
    {
      "cell_type": "code",
      "execution_count": null,
      "metadata": {
        "id": "89doXTbWWzpB"
      },
      "outputs": [],
      "source": [
        "from sklearn.linear_model import LinearRegression\n",
        "\n",
        "# fit a linear regression model on the population and gdp data\n",
        "model = LinearRegression()\n",
        "model.fit(df_2016['population'].values.reshape(-1, 1), df_2016['gdp'].values.reshape(-1, 1))\n",
        "\n",
        "# plot the data along with predictions from the linear regression model\n",
        "inputs = np.linspace(1, 2000000000, num=50)\n",
        "predictions = model.predict(inputs.reshape(-1,1))\n",
        "\n",
        "df_2016.plot('population', 'gdp', kind='scatter')\n",
        "plt.plot(inputs, predictions)\n",
        "print(model.predict(1000000000))"
      ]
    },
    {
      "cell_type": "markdown",
      "metadata": {
        "id": "LgND-xGWWzpB"
      },
      "source": [
        "Notice that the code ouputs a GDP value of 6.54e+12 when population equals 1e9. Now run the code below when the United States is taken out of the data set."
      ]
    },
    {
      "cell_type": "code",
      "execution_count": null,
      "metadata": {
        "id": "fWLOKzhYWzpC"
      },
      "outputs": [],
      "source": [
        "# Remove the United States to see what happens with the linear regression model\n",
        "df_2016[df_2016['Country Name'] != 'United States'].plot('population', 'gdp', kind='scatter')\n",
        "# plt.plot(inputs, predictions)\n",
        "model.fit(df_2016[df_2016['Country Name'] != 'United States']['population'].values.reshape(-1, 1),\n",
        "          df_2016[df_2016['Country Name'] != 'United States']['gdp'].values.reshape(-1, 1))\n",
        "inputs = np.linspace(1, 2000000000, num=50)\n",
        "predictions = model.predict(inputs.reshape(-1,1))\n",
        "plt.plot(inputs, predictions)\n",
        "print(model.predict(1000000000))"
      ]
    },
    {
      "cell_type": "markdown",
      "metadata": {
        "id": "VbNJXQzOWzpC"
      },
      "source": [
        "Notice that the code now ouputs a GDP value of 5.26e+12 when population equals 1e9. In other words, removing the United States shifted the linear regression line down.\n",
        "\n",
        "# Conclusion\n",
        "\n",
        "Data scientists sometimes have the task of creating an outlier removal model. In this exercise, you've used the Tukey rule. There are other one-dimensional models like eliminating data that is far from the mean. There are also more sophisticated models that take into account multi-dimensional data.\n",
        "\n",
        "Remember, however, that this is a course on data engineering. As a data engineer, your job will be to remove outliers using code based on whatever model you're given.\n",
        "\n",
        "If you were using the Tukey rule, for example, you'd calculate Q1, Q3, and IQR on your training data. You'd need to store these results. Then as new data comes in, you'd use these stored values to eliminate any outliers."
      ]
    }
  ],
  "metadata": {
    "kernelspec": {
      "display_name": "Python 3",
      "language": "python",
      "name": "python3"
    },
    "language_info": {
      "codemirror_mode": {
        "name": "ipython",
        "version": 3
      },
      "file_extension": ".py",
      "mimetype": "text/x-python",
      "name": "python",
      "nbconvert_exporter": "python",
      "pygments_lexer": "ipython3",
      "version": "3.6.3"
    },
    "colab": {
      "provenance": [],
      "include_colab_link": true
    }
  },
  "nbformat": 4,
  "nbformat_minor": 0
}