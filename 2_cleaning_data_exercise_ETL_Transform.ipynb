{
  "cells": [
    {
      "cell_type": "markdown",
      "metadata": {
        "id": "view-in-github",
        "colab_type": "text"
      },
      "source": [
        "<a href=\"https://colab.research.google.com/github/Rafia-Shaikh-eng/Data-Science-Analytics/blob/main/2_cleaning_data_exercise_ETL_Transform.ipynb\" target=\"_parent\"><img src=\"https://colab.research.google.com/assets/colab-badge.svg\" alt=\"Open In Colab\"/></a>"
      ]
    },
    {
      "cell_type": "markdown",
      "metadata": {
        "id": "kWfiEh7CiQxM"
      },
      "source": [
        "# Cleaning Data\n",
        "\n",
        "Cleaning data is a big topic. Every data set might have its own issues whether that involves missing values, duplicated entries, data entry mistakes, etc. In this exercise, you'll do some data cleaning on the World Bank projects and World Bank indicators data sets.\n",
        "\n",
        "Currently, the projects data and the indicators data have different values for country names. Your task in this exercise is to clean both data sets so that they have consistent country names. This will allow you to join the two data sets together. Cleaning data, unfortunately, can be tedious and take a lot of your time as a data scientist.\n",
        "\n",
        "Why might you want to join these data sets together? What if, for example, you wanted to run linear regression to try to predict project costs based on indicator data? Or you might want to analyze the types of projects that get approved versus the indicator data. For example, do countries with low rates of rural electrification have more rural themed projects?"
      ]
    },
    {
      "cell_type": "markdown",
      "metadata": {
        "id": "WKFCPBUuiQxP"
      },
      "source": [
        "# Part 1 - Explore the Data\n",
        "\n",
        "Run the code cells below to import the data sets. The code cell will also output the unique country names in each data set."
      ]
    },
    {
      "cell_type": "code",
      "execution_count": null,
      "metadata": {
        "id": "dq_zz45YiQxQ"
      },
      "outputs": [],
      "source": [
        "import pandas as pd\n",
        "\n",
        "# read in the population data and drop the final column\n",
        "df_indicator = pd.read_csv('../data/population_data.csv', skiprows=4)\n",
        "df_indicator.drop(['Unnamed: 62'], axis=1, inplace=True)\n",
        "\n",
        "# read in the projects data set with all columns type string\n",
        "df_projects = pd.read_csv('../data/projects_data.csv', dtype=str)\n",
        "df_projects.drop(['Unnamed: 56'], axis=1, inplace=True)"
      ]
    },
    {
      "cell_type": "markdown",
      "metadata": {
        "id": "3MG7KO1siQxR"
      },
      "source": [
        "The next code cell outputs the unique country names and ISO abbreviations in the population indicator data set. You'll notice a few values that represent world regions such as 'East Asia & Pacific' and 'East Asia & Pacific (excluding high income)'."
      ]
    },
    {
      "cell_type": "code",
      "execution_count": null,
      "metadata": {
        "id": "Xxe4YIbdiQxS"
      },
      "outputs": [],
      "source": [
        "df_indicator[['Country Name', 'Country Code']].drop_duplicates()"
      ]
    },
    {
      "cell_type": "markdown",
      "metadata": {
        "id": "OaEbQfT6iQxS"
      },
      "source": [
        "Run the next code cell to see the unique country names in the project data set. Notice that the projects data has two columns for country name. One is called 'countryname' and the other is called 'Country'. The 'Country' column only has NaN values.\n",
        "\n",
        "Another thing of note: It would've been easier to join the two data sets together if the projects data had the [ISO country abbreviations](https://en.wikipedia.org/wiki/ISO_3166-1) like the indicator data has. Unfortunately, the projects data does not have the ISO country abbreviations. To join these two data sets together, you essentially have two choices:\n",
        "* add a column of ISO 3 codes to the projects data set\n",
        "* find the difference between the projects data country names and indicator data country names. Then clean the data so that they are the same.\n",
        "\n",
        "Run the code cell below to see what the project countries look like:"
      ]
    },
    {
      "cell_type": "code",
      "execution_count": null,
      "metadata": {
        "id": "-j-EU0xmiQxS"
      },
      "outputs": [],
      "source": [
        "df_projects['countryname'].unique()"
      ]
    },
    {
      "cell_type": "markdown",
      "metadata": {
        "id": "illSTVOUiQxS"
      },
      "source": [
        "# Part 2 - Use the Pycountry library\n",
        "\n",
        "Did you notice a pattern in the projects data country names? The entries are repeated and separated by a semi-colon like this:\n",
        "```text\n",
        "'Kingdom of Spain;Kingdom of Spain'\n",
        "'New Zealand;New Zealand'\n",
        "```\n",
        "\n",
        "The first step is to clean the country name column and get rid of the semi-colon. Do that below:"
      ]
    },
    {
      "cell_type": "code",
      "execution_count": null,
      "metadata": {
        "id": "U0KnU3criQxT"
      },
      "outputs": [],
      "source": [
        "###\n",
        "#\n",
        "# TODO: In the df_projects dataframe, create a new column called 'Official Country Name' so that the country name only appears once.\n",
        "# For example, `Republic of Malta;Republic of Malta` should be `Republic of Malta`.\n",
        "#\n",
        "# HINT: use the split() method - see https://pandas.pydata.org/pandas-docs/stable/text.html for examples\n",
        "# HINT: with pandas, you can do all of this with just one line of code\n",
        "###\n",
        "\n",
        "df_projects['Official Country Name'] = None"
      ]
    },
    {
      "cell_type": "markdown",
      "metadata": {
        "id": "-DKUOs7WiQxT"
      },
      "source": [
        "It looks like the projects data set has official country names. Hence, this data set has an entry like \"Kingdom of Spain\" whereas the indicators data has just \"Spain\".\n",
        "\n",
        "Luckily, someone has developed a Python library called [pycountry](https://pypi.org/project/pycountry/). This library has country names, ISO abbreviations, and official country names. While you might not be able to clean all of the data with the help of this Python library, it will probably help.\n",
        "\n",
        "Run the code cells below to install the pycountry library and see how it works."
      ]
    },
    {
      "cell_type": "code",
      "execution_count": null,
      "metadata": {
        "id": "FD2ln2G9iQxT"
      },
      "outputs": [],
      "source": [
        "# Run this code cell to install and import the pycountry library\n",
        "!pip install pycountry\n",
        "from pycountry import countries"
      ]
    },
    {
      "cell_type": "code",
      "execution_count": null,
      "metadata": {
        "id": "bF3UDRu9iQxU"
      },
      "outputs": [],
      "source": [
        "# Run this code cell to see an example of how the library works\n",
        "countries.get(name='Spain')"
      ]
    },
    {
      "cell_type": "code",
      "execution_count": null,
      "metadata": {
        "id": "KeJmO_W0iQxU"
      },
      "outputs": [],
      "source": [
        "# Run this code cell to see how you can also look up countries without specifying the key\n",
        "countries.lookup('Kingdom of Spain')"
      ]
    },
    {
      "cell_type": "markdown",
      "metadata": {
        "id": "b20oWur2iQxU"
      },
      "source": [
        "Using the pycountry library, your task is to clean the projects data so that the country names match the indicators data country names. Iterate through the unique countries in df_projects['Country Name']. Create a dictionary mapping the 'Country Name' to the alpha_3 ISO abbreviations.\n",
        "\n",
        "The dictionary should look like:\n",
        "`{'Kingdom of Spain':'ESP'}`\n",
        "\n",
        "If a country name cannot be found in the pycountry library, add it to a list called `country_not_found`."
      ]
    },
    {
      "cell_type": "code",
      "execution_count": null,
      "metadata": {
        "id": "mZ3oP5bxiQxU"
      },
      "outputs": [],
      "source": [
        "# set up the libraries and variables\n",
        "from collections import defaultdict\n",
        "country_not_found = [] # stores countries not found in the pycountry library\n",
        "project_country_abbrev_dict = defaultdict(str) # set up an empty dictionary of string values\n",
        "\n",
        "# TODO: iterate through the country names in df_projects.\n",
        "# Create a dictionary mapping the country name to the alpha_3 ISO code\n",
        "for country in df_projects['Official Country Name'].drop_duplicates().sort_values():\n",
        "    try:\n",
        "        # TODO: look up the country name in the pycountry library\n",
        "        # store the country name as the dictionary key and the ISO-3 code as the value\n",
        "        project_country_abbrev_dict[country] = None\n",
        "    except:\n",
        "        # If the country name is not in the pycountry library, then print out the country name\n",
        "        # And store the results in the country_not_found list\n",
        "        print(country, ' not found')\n",
        "        country_not_found.append(country)"
      ]
    },
    {
      "cell_type": "markdown",
      "metadata": {
        "id": "ns3Jwq05iQxV"
      },
      "source": [
        "Quite a few country names were not in the pycountry library. Some of these are regions like \"South Asia\" or \"Southern Africa\", so it makes sense that these would not show up in the pycountry library.\n",
        "\n",
        "# Part 3 - Making a Manual Mapping\n",
        "\n",
        "Perhaps some of these missing df_projects countries are already in the indicators data set. In the next cell, check if any of the countries in the country_not_found list are in the indicator list of countries."
      ]
    },
    {
      "cell_type": "code",
      "execution_count": null,
      "metadata": {
        "id": "82oKDpR5iQxV"
      },
      "outputs": [],
      "source": [
        "# Run this code cell to\n",
        "# iterate through the country_not_found list and check if the country name is in the df_indicator data set\n",
        "indicator_countries = df_indicator[['Country Name', 'Country Code']].drop_duplicates().sort_values(by='Country Name')\n",
        "\n",
        "for country in country_not_found:\n",
        "    if country in indicator_countries['Country Name'].tolist():\n",
        "        print(country)"
      ]
    },
    {
      "cell_type": "markdown",
      "metadata": {
        "id": "z2LktAWniQxV"
      },
      "source": [
        "Unfortunately, there aren't too many country names that match between df_indicator and df_projects. This is where data cleaning becomes especially tedious, but in this case, we've done a lot of the work for you.\n",
        "\n",
        "We've manually created a dictionary that maps all of the countries in country_not_found to the ISO-3 alpha codes. You **could** try to do this programatically using some sophisticated string matching rules. That might be worth your time for a larger data set. But in this case, it's probably faster to type out the dictionary."
      ]
    },
    {
      "cell_type": "code",
      "execution_count": null,
      "metadata": {
        "id": "FimBEIKoiQxV"
      },
      "outputs": [],
      "source": [
        "# run this code cell to load the dictionary\n",
        "\n",
        "country_not_found_mapping = {'Co-operative Republic of Guyana': 'GUY',\n",
        "             'Commonwealth of Australia':'AUS',\n",
        "             'Democratic Republic of Sao Tome and Prin':'STP',\n",
        "             'Democratic Republic of the Congo':'COD',\n",
        "             'Democratic Socialist Republic of Sri Lan':'LKA',\n",
        "             'East Asia and Pacific':'EAS',\n",
        "             'Europe and Central Asia': 'ECS',\n",
        "             'Islamic  Republic of Afghanistan':'AFG',\n",
        "             'Latin America':'LCN',\n",
        "              'Caribbean':'LCN',\n",
        "             'Macedonia':'MKD',\n",
        "             'Middle East and North Africa':'MEA',\n",
        "             'Oriental Republic of Uruguay':'URY',\n",
        "             'Republic of Congo':'COG',\n",
        "             \"Republic of Cote d'Ivoire\":'CIV',\n",
        "             'Republic of Korea':'KOR',\n",
        "             'Republic of Niger':'NER',\n",
        "             'Republic of Kosovo':'XKX',\n",
        "             'Republic of Rwanda':'RWA',\n",
        "              'Republic of The Gambia':'GMB',\n",
        "              'Republic of Togo':'TGO',\n",
        "              'Republic of the Union of Myanmar':'MMR',\n",
        "              'Republica Bolivariana de Venezuela':'VEN',\n",
        "              'Sint Maarten':'SXM',\n",
        "              \"Socialist People's Libyan Arab Jamahiriy\":'LBY',\n",
        "              'Socialist Republic of Vietnam':'VNM',\n",
        "              'Somali Democratic Republic':'SOM',\n",
        "              'South Asia':'SAS',\n",
        "              'St. Kitts and Nevis':'KNA',\n",
        "              'St. Lucia':'LCA',\n",
        "              'St. Vincent and the Grenadines':'VCT',\n",
        "              'State of Eritrea':'ERI',\n",
        "              'The Independent State of Papua New Guine':'PNG',\n",
        "              'West Bank and Gaza':'PSE',\n",
        "              'World':'WLD'}"
      ]
    },
    {
      "cell_type": "markdown",
      "metadata": {
        "id": "7O9HBqcziQxW"
      },
      "source": [
        "Next, update the project_country_abbrev_dict variable with these new values."
      ]
    },
    {
      "cell_type": "code",
      "execution_count": null,
      "metadata": {
        "id": "1GzIsktMiQxW"
      },
      "outputs": [],
      "source": [
        "# TODO: Update the project_country_abbrev_dict with the country_not_found_mapping dictionary\n",
        "# HINT: This is relatively straightforward. Python dictionaries have a method called update(), which essentially\n",
        "# appends a dictionary to another dictionary\n",
        "\n",
        "project_country_abbrev_dict = None"
      ]
    },
    {
      "cell_type": "markdown",
      "metadata": {
        "id": "0rBkUuVOiQxW"
      },
      "source": [
        "# Part 5 - Make a 'Country Code' Column\n",
        "\n",
        "Next, create a 'Country Code' column in the data_projects data frame. Use the project_country_abbrev_dict and df_projects['Country Name'] column to create a new columns called 'Country 'Code'."
      ]
    },
    {
      "cell_type": "code",
      "execution_count": null,
      "metadata": {
        "id": "Hsqr_B7-iQxW"
      },
      "outputs": [],
      "source": [
        "# TODO: Use the project_country_abbrev_dict and the df_projects['Country Name'] column to make a new column\n",
        "# of the alpha-3 country codes. This new column should be called 'Country Code'.\n",
        "\n",
        "# HINT: Use the apply method and a lambda function\n",
        "# https://pandas.pydata.org/pandas-docs/stable/generated/pandas.DataFrame.apply.html\n",
        "\n",
        "df_projects['Country Code'] = None"
      ]
    },
    {
      "cell_type": "code",
      "execution_count": null,
      "metadata": {
        "id": "YuMyVE7riQxW"
      },
      "outputs": [],
      "source": [
        "# Run this code cell to see which projects in the df_projects data frame still have no country code abbreviation.\n",
        "# In other words, these projects do not have a matching population value in the df_indicator data frame.\n",
        "df_projects[df_projects['Country Code'] == '']"
      ]
    },
    {
      "cell_type": "markdown",
      "metadata": {
        "id": "6nMpK2A1iQxW"
      },
      "source": [
        "You'll notice that there are still a few entries without country abbreviations. This includes projects that were labeled as \"Africa\" rather than a specific country. It also includes \"Yugoslavia\", which is a country that ceased to exist in the 1990s."
      ]
    },
    {
      "cell_type": "markdown",
      "metadata": {
        "id": "JHOP33N0iQxX"
      },
      "source": [
        "# Conclusion\n",
        "\n",
        "Now the df_projects dataframe and the df_indicator dataframe have a matching column called 'Country Code'. But these two data frames can't be merged quite yet.\n",
        "\n",
        "Each project in the df_projects dataframe also has a date associated with it. The idea would be to merge the df_projects dataframe with the df_indicator dataframe so that each project also had a population value associated with it. There are still more data transformations to do in order for that to be possible.\n",
        "\n",
        "In fact, the **challenge** problem from the previous exercise on merging data would help quite a bit. In that exercise, the indicator data was transformed from a [wide format to a long format](http://pandas.pydata.org/pandas-docs/stable/generated/pandas.melt.html).\n",
        "\n",
        "You could then merge the df_projects dataframe and the df_indicator dataframe using the alpha-3 country abbreviation and the project or indicator year. You can start to see how data transformations become a series of processes that pipeline data from one format into a different format.\n"
      ]
    },
    {
      "cell_type": "code",
      "execution_count": null,
      "metadata": {
        "id": "gSeXqrzsiQxX"
      },
      "outputs": [],
      "source": []
    }
  ],
  "metadata": {
    "kernelspec": {
      "display_name": "Python 3",
      "language": "python",
      "name": "python3"
    },
    "language_info": {
      "codemirror_mode": {
        "name": "ipython",
        "version": 3
      },
      "file_extension": ".py",
      "mimetype": "text/x-python",
      "name": "python",
      "nbconvert_exporter": "python",
      "pygments_lexer": "ipython3",
      "version": "3.6.3"
    },
    "colab": {
      "provenance": [],
      "include_colab_link": true
    }
  },
  "nbformat": 4,
  "nbformat_minor": 0
}