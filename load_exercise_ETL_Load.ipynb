{
  "cells": [
    {
      "cell_type": "markdown",
      "metadata": {
        "id": "view-in-github",
        "colab_type": "text"
      },
      "source": [
        "<a href=\"https://colab.research.google.com/github/Rafia-Shaikh-eng/Data-Science-Analytics/blob/main/load_exercise_ETL_Load.ipynb\" target=\"_parent\"><img src=\"https://colab.research.google.com/assets/colab-badge.svg\" alt=\"Open In Colab\"/></a>"
      ]
    },
    {
      "cell_type": "markdown",
      "metadata": {
        "id": "2HiIFv7NsUIs"
      },
      "source": [
        "# Load\n",
        "\n",
        "In this exercise, you'll load data into different formats: a csv file, a json file, and a SQLite database.\n",
        "\n",
        "You'll work with the GDP, population, and projects data. Run the code cell below to read in and clean the World Bank population and gdp data. This code creates a dataframe called df_indicator with both the gdp and population data."
      ]
    },
    {
      "cell_type": "code",
      "execution_count": null,
      "metadata": {
        "id": "ya8AqJIBsUI3",
        "outputId": "0f089570-8626-46e1-c4bd-779b3bc67e5f"
      },
      "outputs": [
        {
          "data": {
            "text/html": [
              "<div>\n",
              "<style scoped>\n",
              "    .dataframe tbody tr th:only-of-type {\n",
              "        vertical-align: middle;\n",
              "    }\n",
              "\n",
              "    .dataframe tbody tr th {\n",
              "        vertical-align: top;\n",
              "    }\n",
              "\n",
              "    .dataframe thead th {\n",
              "        text-align: right;\n",
              "    }\n",
              "</style>\n",
              "<table border=\"1\" class=\"dataframe\">\n",
              "  <thead>\n",
              "    <tr style=\"text-align: right;\">\n",
              "      <th></th>\n",
              "      <th>countryname</th>\n",
              "      <th>countrycode</th>\n",
              "      <th>year</th>\n",
              "      <th>gdp</th>\n",
              "      <th>population</th>\n",
              "    </tr>\n",
              "  </thead>\n",
              "  <tbody>\n",
              "    <tr>\n",
              "      <th>0</th>\n",
              "      <td>Aruba</td>\n",
              "      <td>ABW</td>\n",
              "      <td>1960</td>\n",
              "      <td>1.916242e+09</td>\n",
              "      <td>54211.0</td>\n",
              "    </tr>\n",
              "    <tr>\n",
              "      <th>1</th>\n",
              "      <td>Afghanistan</td>\n",
              "      <td>AFG</td>\n",
              "      <td>1960</td>\n",
              "      <td>5.377778e+08</td>\n",
              "      <td>8996351.0</td>\n",
              "    </tr>\n",
              "    <tr>\n",
              "      <th>2</th>\n",
              "      <td>Angola</td>\n",
              "      <td>AGO</td>\n",
              "      <td>1960</td>\n",
              "      <td>1.857319e+10</td>\n",
              "      <td>5643182.0</td>\n",
              "    </tr>\n",
              "    <tr>\n",
              "      <th>3</th>\n",
              "      <td>Albania</td>\n",
              "      <td>ALB</td>\n",
              "      <td>1960</td>\n",
              "      <td>1.857319e+10</td>\n",
              "      <td>1608800.0</td>\n",
              "    </tr>\n",
              "    <tr>\n",
              "      <th>4</th>\n",
              "      <td>Andorra</td>\n",
              "      <td>AND</td>\n",
              "      <td>1960</td>\n",
              "      <td>1.857319e+10</td>\n",
              "      <td>13411.0</td>\n",
              "    </tr>\n",
              "  </tbody>\n",
              "</table>\n",
              "</div>"
            ],
            "text/plain": [
              "   countryname countrycode  year           gdp  population\n",
              "0        Aruba         ABW  1960  1.916242e+09     54211.0\n",
              "1  Afghanistan         AFG  1960  5.377778e+08   8996351.0\n",
              "2       Angola         AGO  1960  1.857319e+10   5643182.0\n",
              "3      Albania         ALB  1960  1.857319e+10   1608800.0\n",
              "4      Andorra         AND  1960  1.857319e+10     13411.0"
            ]
          },
          "execution_count": 20,
          "metadata": {},
          "output_type": "execute_result"
        }
      ],
      "source": [
        "# run this code cell - there is nothing for you to do in this code cell\n",
        "\n",
        "import pandas as pd\n",
        "import numpy as np\n",
        "import matplotlib.pyplot as plt\n",
        "%matplotlib inline\n",
        "\n",
        "# read in the projects data set and do basic wrangling\n",
        "gdp = pd.read_csv('../data/gdp_data.csv', skiprows=4)\n",
        "gdp.drop(['Unnamed: 62', 'Indicator Name', 'Indicator Code'], inplace=True, axis=1)\n",
        "population = pd.read_csv('../data/population_data.csv', skiprows=4)\n",
        "population.drop(['Unnamed: 62', 'Indicator Name', 'Indicator Code'], inplace=True, axis=1)\n",
        "\n",
        "\n",
        "# Reshape the data sets so that they are in long format\n",
        "gdp_melt = gdp.melt(id_vars=['Country Name', 'Country Code'],\n",
        "                    var_name='year',\n",
        "                    value_name='gdp')\n",
        "\n",
        "# Use back fill and forward fill to fill in missing gdp values\n",
        "gdp_melt['gdp'] = gdp_melt.sort_values('year').groupby(['Country Name', 'Country Code'])['gdp'].fillna(method='ffill').fillna(method='bfill')\n",
        "\n",
        "population_melt = population.melt(id_vars=['Country Name', 'Country Code'],\n",
        "                                  var_name='year',\n",
        "                                  value_name='population')\n",
        "\n",
        "# Use back fill and forward fill to fill in missing population values\n",
        "population_melt['population'] = population_melt.sort_values('year').groupby('Country Name')['population'].fillna(method='ffill').fillna(method='bfill')\n",
        "\n",
        "# merge the population and gdp data together into one data frame\n",
        "df_indicator = gdp_melt.merge(population_melt, on=('Country Name', 'Country Code', 'year'))\n",
        "\n",
        "# filter out values that are not countries\n",
        "non_countries = ['World',\n",
        " 'High income',\n",
        " 'OECD members',\n",
        " 'Post-demographic dividend',\n",
        " 'IDA & IBRD total',\n",
        " 'Low & middle income',\n",
        " 'Middle income',\n",
        " 'IBRD only',\n",
        " 'East Asia & Pacific',\n",
        " 'Europe & Central Asia',\n",
        " 'North America',\n",
        " 'Upper middle income',\n",
        " 'Late-demographic dividend',\n",
        " 'European Union',\n",
        " 'East Asia & Pacific (excluding high income)',\n",
        " 'East Asia & Pacific (IDA & IBRD countries)',\n",
        " 'Euro area',\n",
        " 'Early-demographic dividend',\n",
        " 'Lower middle income',\n",
        " 'Latin America & Caribbean',\n",
        " 'Latin America & the Caribbean (IDA & IBRD countries)',\n",
        " 'Latin America & Caribbean (excluding high income)',\n",
        " 'Europe & Central Asia (IDA & IBRD countries)',\n",
        " 'Middle East & North Africa',\n",
        " 'Europe & Central Asia (excluding high income)',\n",
        " 'South Asia (IDA & IBRD)',\n",
        " 'South Asia',\n",
        " 'Arab World',\n",
        " 'IDA total',\n",
        " 'Sub-Saharan Africa',\n",
        " 'Sub-Saharan Africa (IDA & IBRD countries)',\n",
        " 'Sub-Saharan Africa (excluding high income)',\n",
        " 'Middle East & North Africa (excluding high income)',\n",
        " 'Middle East & North Africa (IDA & IBRD countries)',\n",
        " 'Central Europe and the Baltics',\n",
        " 'Pre-demographic dividend',\n",
        " 'IDA only',\n",
        " 'Least developed countries: UN classification',\n",
        " 'IDA blend',\n",
        " 'Fragile and conflict affected situations',\n",
        " 'Heavily indebted poor countries (HIPC)',\n",
        " 'Low income',\n",
        " 'Small states',\n",
        " 'Other small states',\n",
        " 'Not classified',\n",
        " 'Caribbean small states',\n",
        " 'Pacific island small states']\n",
        "\n",
        "# remove non countries from the data\n",
        "df_indicator  = df_indicator[~df_indicator['Country Name'].isin(non_countries)]\n",
        "df_indicator.reset_index(inplace=True, drop=True)\n",
        "\n",
        "df_indicator.columns = ['countryname', 'countrycode', 'year', 'gdp', 'population']\n",
        "\n",
        "# output the first few rows of the data frame\n",
        "df_indicator.head()"
      ]
    },
    {
      "cell_type": "markdown",
      "metadata": {
        "id": "G44NE0qosUJD"
      },
      "source": [
        "Run this code cell to read in the countries data set. This will create a data frame called df_projects containing the World Bank projects data. The data frame only has the 'id', 'countryname', 'countrycode', 'totalamt', and 'year' columns."
      ]
    },
    {
      "cell_type": "code",
      "execution_count": null,
      "metadata": {
        "id": "SgBCl-aDsUJF",
        "outputId": "0f4e80d5-73eb-4953-8a5e-85c0ea2d8182"
      },
      "outputs": [
        {
          "name": "stdout",
          "output_type": "stream",
          "text": [
            "Requirement already satisfied: pycountry in /anaconda3/lib/python3.6/site-packages (18.5.26)\n",
            "\u001b[31mflask-cors 3.0.3 requires Flask>=0.9, which is not installed.\u001b[0m\n",
            "\u001b[31mblaze 0.11.3 requires flask>=0.10.1, which is not installed.\u001b[0m\n",
            "\u001b[33mYou are using pip version 10.0.1, however version 18.0 is available.\n",
            "You should consider upgrading via the 'pip install --upgrade pip' command.\u001b[0m\n"
          ]
        },
        {
          "data": {
            "text/html": [
              "<div>\n",
              "<style scoped>\n",
              "    .dataframe tbody tr th:only-of-type {\n",
              "        vertical-align: middle;\n",
              "    }\n",
              "\n",
              "    .dataframe tbody tr th {\n",
              "        vertical-align: top;\n",
              "    }\n",
              "\n",
              "    .dataframe thead th {\n",
              "        text-align: right;\n",
              "    }\n",
              "</style>\n",
              "<table border=\"1\" class=\"dataframe\">\n",
              "  <thead>\n",
              "    <tr style=\"text-align: right;\">\n",
              "      <th></th>\n",
              "      <th>id</th>\n",
              "      <th>countryname</th>\n",
              "      <th>countrycode</th>\n",
              "      <th>totalamt</th>\n",
              "      <th>year</th>\n",
              "    </tr>\n",
              "  </thead>\n",
              "  <tbody>\n",
              "    <tr>\n",
              "      <th>0</th>\n",
              "      <td>P162228</td>\n",
              "      <td>World</td>\n",
              "      <td>WLD</td>\n",
              "      <td>0</td>\n",
              "      <td>2018</td>\n",
              "    </tr>\n",
              "    <tr>\n",
              "      <th>1</th>\n",
              "      <td>P163962</td>\n",
              "      <td>Democratic Republic of the Congo</td>\n",
              "      <td>COD</td>\n",
              "      <td>200000000</td>\n",
              "      <td>2018</td>\n",
              "    </tr>\n",
              "    <tr>\n",
              "      <th>2</th>\n",
              "      <td>P167672</td>\n",
              "      <td>People's Republic of Bangladesh</td>\n",
              "      <td>BGD</td>\n",
              "      <td>58330000</td>\n",
              "      <td>2018</td>\n",
              "    </tr>\n",
              "    <tr>\n",
              "      <th>3</th>\n",
              "      <td>P158768</td>\n",
              "      <td>Islamic  Republic of Afghanistan</td>\n",
              "      <td>AFG</td>\n",
              "      <td>20000000</td>\n",
              "      <td>2018</td>\n",
              "    </tr>\n",
              "    <tr>\n",
              "      <th>4</th>\n",
              "      <td>P161364</td>\n",
              "      <td>Federal Republic of Nigeria</td>\n",
              "      <td>NGA</td>\n",
              "      <td>100000000</td>\n",
              "      <td>2018</td>\n",
              "    </tr>\n",
              "  </tbody>\n",
              "</table>\n",
              "</div>"
            ],
            "text/plain": [
              "        id                       countryname countrycode   totalamt  year\n",
              "0  P162228                             World         WLD          0  2018\n",
              "1  P163962  Democratic Republic of the Congo         COD  200000000  2018\n",
              "2  P167672   People's Republic of Bangladesh         BGD   58330000  2018\n",
              "3  P158768  Islamic  Republic of Afghanistan         AFG   20000000  2018\n",
              "4  P161364       Federal Republic of Nigeria         NGA  100000000  2018"
            ]
          },
          "execution_count": 21,
          "metadata": {},
          "output_type": "execute_result"
        }
      ],
      "source": [
        "# run this code cell - there is nothing for you to do here\n",
        "\n",
        "!pip install pycountry\n",
        "from pycountry import countries\n",
        "\n",
        "# read in the projects data set with all columns type string\n",
        "df_projects = pd.read_csv('../data/projects_data.csv', dtype=str)\n",
        "df_projects.drop(['Unnamed: 56'], axis=1, inplace=True)\n",
        "\n",
        "df_projects['countryname'] = df_projects['countryname'].str.split(';').str.get(0)\n",
        "\n",
        "# set up the libraries and variables\n",
        "from collections import defaultdict\n",
        "country_not_found = [] # stores countries not found in the pycountry library\n",
        "project_country_abbrev_dict = defaultdict(str) # set up an empty dictionary of string values\n",
        "\n",
        "# TODO: iterate through the country names in df_projects.\n",
        "# Create a dictionary mapping the country name to the alpha_3 ISO code\n",
        "for country in df_projects['countryname'].drop_duplicates().sort_values():\n",
        "    try:\n",
        "        # TODO: look up the country name in the pycountry library\n",
        "        # store the country name as the dictionary key and the ISO-3 code as the value\n",
        "        project_country_abbrev_dict[country] = countries.lookup(country).alpha_3\n",
        "    except:\n",
        "        # If the country name is not in the pycountry library, then print out the country name\n",
        "        # And store the results in the country_not_found list\n",
        "        country_not_found.append(country)\n",
        "\n",
        "# run this code cell to load the dictionary\n",
        "\n",
        "country_not_found_mapping = {'Co-operative Republic of Guyana': 'GUY',\n",
        "             'Commonwealth of Australia':'AUS',\n",
        "             'Democratic Republic of Sao Tome and Prin':'STP',\n",
        "             'Democratic Republic of the Congo':'COD',\n",
        "             'Democratic Socialist Republic of Sri Lan':'LKA',\n",
        "             'East Asia and Pacific':'EAS',\n",
        "             'Europe and Central Asia': 'ECS',\n",
        "             'Islamic  Republic of Afghanistan':'AFG',\n",
        "             'Latin America':'LCN',\n",
        "              'Caribbean':'LCN',\n",
        "             'Macedonia':'MKD',\n",
        "             'Middle East and North Africa':'MEA',\n",
        "             'Oriental Republic of Uruguay':'URY',\n",
        "             'Republic of Congo':'COG',\n",
        "             \"Republic of Cote d'Ivoire\":'CIV',\n",
        "             'Republic of Korea':'KOR',\n",
        "             'Republic of Niger':'NER',\n",
        "             'Republic of Kosovo':'XKX',\n",
        "             'Republic of Rwanda':'RWA',\n",
        "              'Republic of The Gambia':'GMB',\n",
        "              'Republic of Togo':'TGO',\n",
        "              'Republic of the Union of Myanmar':'MMR',\n",
        "              'Republica Bolivariana de Venezuela':'VEN',\n",
        "              'Sint Maarten':'SXM',\n",
        "              \"Socialist People's Libyan Arab Jamahiriy\":'LBY',\n",
        "              'Socialist Republic of Vietnam':'VNM',\n",
        "              'Somali Democratic Republic':'SOM',\n",
        "              'South Asia':'SAS',\n",
        "              'St. Kitts and Nevis':'KNA',\n",
        "              'St. Lucia':'LCA',\n",
        "              'St. Vincent and the Grenadines':'VCT',\n",
        "              'State of Eritrea':'ERI',\n",
        "              'The Independent State of Papua New Guine':'PNG',\n",
        "              'West Bank and Gaza':'PSE',\n",
        "              'World':'WLD'}\n",
        "\n",
        "project_country_abbrev_dict.update(country_not_found_mapping)\n",
        "\n",
        "df_projects['countrycode'] = df_projects['countryname'].apply(lambda x: project_country_abbrev_dict[x])\n",
        "\n",
        "df_projects['boardapprovaldate'] = pd.to_datetime(df_projects['boardapprovaldate'])\n",
        "\n",
        "df_projects['year'] = df_projects['boardapprovaldate'].dt.year.astype(str).str.slice(stop=4)\n",
        "\n",
        "df_projects['totalamt'] = pd.to_numeric(df_projects['totalamt'].str.replace(',',\"\"))\n",
        "\n",
        "df_projects = df_projects[['id', 'countryname', 'countrycode', 'totalamt', 'year']]\n",
        "\n",
        "df_projects.head()"
      ]
    },
    {
      "cell_type": "markdown",
      "metadata": {
        "id": "fszwFOJtsUJI"
      },
      "source": [
        "# Exercise Part 1\n",
        "\n",
        "The first few cells in this workbook loaded and cleaned the World Bank Data. You now have two data frames:\n",
        "* df_projects, which contain data from the projects data set\n",
        "* df_indicator, which contain population and gdp data for various years\n",
        "\n",
        "They both have country code variables. Note, however, that there could be countries represented in the projects data set that are not in the indicator data set and vice versus.\n",
        "\n",
        "In this first exercise, merge the two data sets together using country code and year as common keys. When joining the data sets, keep all of the data in the df_projects dataframe even if there is no indicator data for that country code."
      ]
    },
    {
      "cell_type": "code",
      "execution_count": null,
      "metadata": {
        "id": "qWpAvqwBsUJJ"
      },
      "outputs": [],
      "source": [
        "# TODO: merge the projects and indicator data frames together using countrycode and year as common keys\n",
        "# Use a left join so that all projects are returned even if the country/year combination does not have\n",
        "# indicator data\n",
        "\n",
        "df_merged = None"
      ]
    },
    {
      "cell_type": "markdown",
      "metadata": {
        "id": "l5kFeFB4sUJK"
      },
      "source": [
        "If you look at the first few rows of the merged data set, you'll see NaN's for the indicator data. That is because the indicator data does not contain values for 2018. If you run the code cell below, you should get the following results:\n",
        "\n",
        "\n",
        "||id | countryname_x\t| countrycode\t|totalamt\t|year\t|countryname_y\t|gdp\t| population|\n",
        "|-|-|-|-|-|-|-|\n",
        "|256|\tP161982|\tHashemite Kingdom of Jordan|\tJOR|\t0|\t2017|\tJordan\t|4.006831e+10|\t9702353.0|\n",
        "|301|\tP162407|\tHashemite Kingdom of Jordan|\tJOR|\t147700000|\t2017|\tJordan|\t4.006831e+10|\t9702353.0|\n",
        "|318|\tP160103|\tHashemite Kingdom of Jordan|\tJOR|\t0|\t2017|\tJordan\t|4.006831e+10\t|9702353.0|\n",
        "|464|\tP161905|\tHashemite Kingdom of Jordan|\tJOR|\t50000000|\t2017\t|Jordan\t|4.006831e+10\t|9702353.0|\n",
        "|495|\tP163387|\tHashemite Kingdom of Jordan|\tJOR|\t36100000|\t2017\t|Jordan\t|4.006831e+10\t|9702353.0|\n",
        "|515|\tP163241|\tHashemite Kingdom of Jordan|\tJOR|\t0|\t2017|\tJordan|\t4.006831e+10|\t9702353.0|"
      ]
    },
    {
      "cell_type": "code",
      "execution_count": null,
      "metadata": {
        "id": "XjzNFdsnsUJL",
        "outputId": "0fbe68cb-986e-48db-f2b7-175413cace45"
      },
      "outputs": [
        {
          "data": {
            "text/html": [
              "<div>\n",
              "<style scoped>\n",
              "    .dataframe tbody tr th:only-of-type {\n",
              "        vertical-align: middle;\n",
              "    }\n",
              "\n",
              "    .dataframe tbody tr th {\n",
              "        vertical-align: top;\n",
              "    }\n",
              "\n",
              "    .dataframe thead th {\n",
              "        text-align: right;\n",
              "    }\n",
              "</style>\n",
              "<table border=\"1\" class=\"dataframe\">\n",
              "  <thead>\n",
              "    <tr style=\"text-align: right;\">\n",
              "      <th></th>\n",
              "      <th>id</th>\n",
              "      <th>countryname_x</th>\n",
              "      <th>countrycode</th>\n",
              "      <th>totalamt</th>\n",
              "      <th>year</th>\n",
              "      <th>countryname_y</th>\n",
              "      <th>gdp</th>\n",
              "      <th>population</th>\n",
              "    </tr>\n",
              "  </thead>\n",
              "  <tbody>\n",
              "    <tr>\n",
              "      <th>256</th>\n",
              "      <td>P161982</td>\n",
              "      <td>Hashemite Kingdom of Jordan</td>\n",
              "      <td>JOR</td>\n",
              "      <td>0</td>\n",
              "      <td>2017</td>\n",
              "      <td>Jordan</td>\n",
              "      <td>4.006831e+10</td>\n",
              "      <td>9702353.0</td>\n",
              "    </tr>\n",
              "    <tr>\n",
              "      <th>301</th>\n",
              "      <td>P162407</td>\n",
              "      <td>Hashemite Kingdom of Jordan</td>\n",
              "      <td>JOR</td>\n",
              "      <td>147700000</td>\n",
              "      <td>2017</td>\n",
              "      <td>Jordan</td>\n",
              "      <td>4.006831e+10</td>\n",
              "      <td>9702353.0</td>\n",
              "    </tr>\n",
              "    <tr>\n",
              "      <th>318</th>\n",
              "      <td>P160103</td>\n",
              "      <td>Hashemite Kingdom of Jordan</td>\n",
              "      <td>JOR</td>\n",
              "      <td>0</td>\n",
              "      <td>2017</td>\n",
              "      <td>Jordan</td>\n",
              "      <td>4.006831e+10</td>\n",
              "      <td>9702353.0</td>\n",
              "    </tr>\n",
              "    <tr>\n",
              "      <th>464</th>\n",
              "      <td>P161905</td>\n",
              "      <td>Hashemite Kingdom of Jordan</td>\n",
              "      <td>JOR</td>\n",
              "      <td>50000000</td>\n",
              "      <td>2017</td>\n",
              "      <td>Jordan</td>\n",
              "      <td>4.006831e+10</td>\n",
              "      <td>9702353.0</td>\n",
              "    </tr>\n",
              "    <tr>\n",
              "      <th>495</th>\n",
              "      <td>P163387</td>\n",
              "      <td>Hashemite Kingdom of Jordan</td>\n",
              "      <td>JOR</td>\n",
              "      <td>36100000</td>\n",
              "      <td>2017</td>\n",
              "      <td>Jordan</td>\n",
              "      <td>4.006831e+10</td>\n",
              "      <td>9702353.0</td>\n",
              "    </tr>\n",
              "    <tr>\n",
              "      <th>515</th>\n",
              "      <td>P163241</td>\n",
              "      <td>Hashemite Kingdom of Jordan</td>\n",
              "      <td>JOR</td>\n",
              "      <td>0</td>\n",
              "      <td>2017</td>\n",
              "      <td>Jordan</td>\n",
              "      <td>4.006831e+10</td>\n",
              "      <td>9702353.0</td>\n",
              "    </tr>\n",
              "  </tbody>\n",
              "</table>\n",
              "</div>"
            ],
            "text/plain": [
              "          id                countryname_x countrycode   totalamt  year  \\\n",
              "256  P161982  Hashemite Kingdom of Jordan         JOR          0  2017   \n",
              "301  P162407  Hashemite Kingdom of Jordan         JOR  147700000  2017   \n",
              "318  P160103  Hashemite Kingdom of Jordan         JOR          0  2017   \n",
              "464  P161905  Hashemite Kingdom of Jordan         JOR   50000000  2017   \n",
              "495  P163387  Hashemite Kingdom of Jordan         JOR   36100000  2017   \n",
              "515  P163241  Hashemite Kingdom of Jordan         JOR          0  2017   \n",
              "\n",
              "    countryname_y           gdp  population  \n",
              "256        Jordan  4.006831e+10   9702353.0  \n",
              "301        Jordan  4.006831e+10   9702353.0  \n",
              "318        Jordan  4.006831e+10   9702353.0  \n",
              "464        Jordan  4.006831e+10   9702353.0  \n",
              "495        Jordan  4.006831e+10   9702353.0  \n",
              "515        Jordan  4.006831e+10   9702353.0  "
            ]
          },
          "execution_count": 4,
          "metadata": {},
          "output_type": "execute_result"
        }
      ],
      "source": [
        "# Run this code to check your work\n",
        "df_merged[(df_merged['year'] == '2017') & (df_merged['countryname_y'] == 'Jordan')]"
      ]
    },
    {
      "cell_type": "markdown",
      "metadata": {
        "id": "2HN5EjMmsUJN"
      },
      "source": [
        "# Exercise Part 2\n",
        "\n",
        "Output the df_merged dataframe as a json file. You can use the pandas [to_json() method](https://pandas.pydata.org/pandas-docs/stable/generated/pandas.DataFrame.to_json.html)."
      ]
    },
    {
      "cell_type": "code",
      "execution_count": null,
      "metadata": {
        "id": "h2ita2PhsUJO"
      },
      "outputs": [],
      "source": [
        "# TODO: Output the df_merged data frame as a json file\n",
        "# HINT: Pandas has a to_json() method\n",
        "# HINT: use orient='records' to get one of the more common json formats\n",
        "# HINT: be sure to specify the name of the json file you want to create as the first input into to_json\n",
        "\n"
      ]
    },
    {
      "cell_type": "markdown",
      "metadata": {
        "id": "7tvBd4jmsUJP"
      },
      "source": [
        "If you go to File->Open and then open the 17_load_exercise folder, you can see the json file you created.\n",
        "\n",
        "The records should look like this (note that the order of the records might be different, but the format should look similar):\n",
        "```\n",
        "[{\"id\":\"P162228\",\"countryname_x\":\"World\",\"countrycode\":\"WLD\",\"totalamt\":0,\"year\":\"2018\",\"countryname_y\":null,\"gdp\":null,\"population\":null},{\"id\":\"P163962\",\"countryname_x\":\"Democratic Republic of the Congo\",\"countrycode\":\"COD\",\"totalamt\":200000000,\"year\":\"2018\",\"countryname_y\":null,\"gdp\":null,\"population\":null},{\"id\":\"P167672\",\"countryname_x\":\"People's Republic of Bangladesh\",\"countrycode\":\"BGD\",\"totalamt\":58330000,\"year\":\"2018\",\"countryname_y\":null,\"gdp\":null,\"population\":null},{\"id\":\"P158768\",\"countryname_x\":\"Islamic  Republic of Afghanistan\",\"countrycode\":\"AFG\",\"totalamt\":20000000,\"year\":\"2018\",\"countryname_y\":null,\"gdp\":null,\"population\":null},{\"id\":\"P161364\",\"countryname_x\":\"Federal Republic of Nigeria\",\"countrycode\":\"NGA\",\"totalamt\":100000000,\"year\":\"2018\",\"countryname_y\":null,\"gdp\":null,\"population\":null},{\"id\":\"P161483\",\"countryname_x\":\"Republic of Tunisia\",\"countrycode\":\"TUN\",\"totalamt\":500000000,\"year\":\"2018\",\"countryname_y\":null,\"gdp\":null,\"population\":null}\n",
        "```\n",
        "\n"
      ]
    },
    {
      "cell_type": "markdown",
      "metadata": {
        "id": "4OC3eKZbsUJR"
      },
      "source": [
        "# Exercise Part 3\n",
        "\n",
        "Output the df_merged dataframe as a csv file. You can use the pandas [to_csv() method](https://pandas.pydata.org/pandas-docs/stable/generated/pandas.DataFrame.to_csv.html)."
      ]
    },
    {
      "cell_type": "code",
      "execution_count": null,
      "metadata": {
        "id": "o3BUQUPlsUJS"
      },
      "outputs": [],
      "source": [
        "# TODO: Output the df_merged data frame as a csv file\n",
        "# HINT: The to_csv() method is similar to the to_json() method.\n",
        "# HINT: If you do not want the data frame indices in your result, use index=False\n",
        "\n"
      ]
    },
    {
      "cell_type": "markdown",
      "metadata": {
        "id": "aLn_gqejsUJU"
      },
      "source": [
        "If you go to File->Open and then open the 17_load_exercise folder, you can see the csv file you created.\n",
        "\n",
        "The records should look something like this:\n",
        "```\n",
        "id,countryname_x,countrycode,totalamt,year,countryname_y,gdp,population\n",
        "P162228,World,WLD,0,2018,,,\n",
        "P163962,Democratic Republic of the Congo,COD,200000000,2018,,,\n",
        "P167672,People's Republic of Bangladesh,BGD,58330000,2018,,,\n",
        "P158768,Islamic  Republic of Afghanistan,AFG,20000000,2018,,,\n",
        "P161364,Federal Republic of Nigeria,NGA,100000000,2018,,,\n",
        "P161483,Republic of Tunisia,TUN,500000000,2018,,,\n",
        "P161885,Federal Republic of Nigeria,NGA,350000000,2018,,,\n",
        "P162069,Federal Republic of Nigeria,NGA,225000000,2018,,,\n",
        "P163540,Federal Republic of Nigeria,NGA,125000000,2018,,,\n",
        "P163576,Lebanese Republic,LBN,329900000,2018,,,\n",
        "P163721,Democratic Socialist Republic of Sri Lan,LKA,200000000,2018,,,\n",
        "P164082,Federal Republic of Nigeria,NGA,400000000,2018,,,\n",
        "P164783,Nepal,NPL,0,2018,,,\n",
        "```\n",
        "\n",
        "    "
      ]
    },
    {
      "cell_type": "markdown",
      "metadata": {
        "id": "CAheUGKnsUJV"
      },
      "source": [
        "# Exercise Part 4\n",
        "\n",
        "Output the df_merged dataframe as a sqlite database file. For this exercise, you can put all of the data as one table. In the next exercise, you'll create a database with multiple tables."
      ]
    },
    {
      "cell_type": "code",
      "execution_count": null,
      "metadata": {
        "id": "tplGFfPosUJV"
      },
      "outputs": [],
      "source": [
        "import sqlite3\n",
        "\n",
        "# connect to the database\n",
        "# the database file will be worldbank.db\n",
        "# note that sqlite3 will create this database file if it does not exist already\n",
        "conn = sqlite3.connect('worldbank.db')\n",
        "\n",
        "# TODO: output the df_merged dataframe to a SQL table called 'merged'.\n",
        "# HINT: Use the to_sql() method\n",
        "# HINT: Use the conn variable for the connection parameter\n",
        "# HINT: You can use the if_exists parameter like if_exists='replace' to replace a table if it already exists\n",
        "\n"
      ]
    },
    {
      "cell_type": "markdown",
      "metadata": {
        "id": "9UmVcZAksUJW"
      },
      "source": [
        "Run the code cell below to make sure that the worldbank.db file was created and the merged table loaded. You should get an output that is formatted like this:\n",
        "\n",
        "|id|countryname_x|countrycode|totalamt|year|countryname_y|gdp|population\n",
        "|-|-|-|-|-|-|-|-|\n",
        "|P162033|'Federative  Republic of Brazil'|BRA|125000000|2017|Brazil|2.055506e+12|209288278.0|"
      ]
    },
    {
      "cell_type": "code",
      "execution_count": null,
      "metadata": {
        "id": "-HfmIhBJsUJX",
        "outputId": "035e6581-df14-457a-e40c-b767cf729911"
      },
      "outputs": [
        {
          "data": {
            "text/html": [
              "<div>\n",
              "<style scoped>\n",
              "    .dataframe tbody tr th:only-of-type {\n",
              "        vertical-align: middle;\n",
              "    }\n",
              "\n",
              "    .dataframe tbody tr th {\n",
              "        vertical-align: top;\n",
              "    }\n",
              "\n",
              "    .dataframe thead th {\n",
              "        text-align: right;\n",
              "    }\n",
              "</style>\n",
              "<table border=\"1\" class=\"dataframe\">\n",
              "  <thead>\n",
              "    <tr style=\"text-align: right;\">\n",
              "      <th></th>\n",
              "      <th>id</th>\n",
              "      <th>countryname_x</th>\n",
              "      <th>countrycode</th>\n",
              "      <th>totalamt</th>\n",
              "      <th>year</th>\n",
              "      <th>countryname_y</th>\n",
              "      <th>gdp</th>\n",
              "      <th>population</th>\n",
              "    </tr>\n",
              "  </thead>\n",
              "  <tbody>\n",
              "    <tr>\n",
              "      <th>0</th>\n",
              "      <td>P162033</td>\n",
              "      <td>Federative Republic of Brazil</td>\n",
              "      <td>BRA</td>\n",
              "      <td>125000000</td>\n",
              "      <td>2017</td>\n",
              "      <td>Brazil</td>\n",
              "      <td>2.055506e+12</td>\n",
              "      <td>209288278.0</td>\n",
              "    </tr>\n",
              "    <tr>\n",
              "      <th>1</th>\n",
              "      <td>P158000</td>\n",
              "      <td>Federative Republic of Brazil</td>\n",
              "      <td>BRA</td>\n",
              "      <td>0</td>\n",
              "      <td>2017</td>\n",
              "      <td>Brazil</td>\n",
              "      <td>2.055506e+12</td>\n",
              "      <td>209288278.0</td>\n",
              "    </tr>\n",
              "    <tr>\n",
              "      <th>2</th>\n",
              "      <td>P163868</td>\n",
              "      <td>Federative Republic of Brazil</td>\n",
              "      <td>BRA</td>\n",
              "      <td>250000000</td>\n",
              "      <td>2017</td>\n",
              "      <td>Brazil</td>\n",
              "      <td>2.055506e+12</td>\n",
              "      <td>209288278.0</td>\n",
              "    </tr>\n",
              "    <tr>\n",
              "      <th>3</th>\n",
              "      <td>P152285</td>\n",
              "      <td>Federative Republic of Brazil</td>\n",
              "      <td>BRA</td>\n",
              "      <td>0</td>\n",
              "      <td>2017</td>\n",
              "      <td>Brazil</td>\n",
              "      <td>2.055506e+12</td>\n",
              "      <td>209288278.0</td>\n",
              "    </tr>\n",
              "    <tr>\n",
              "      <th>4</th>\n",
              "      <td>P147158</td>\n",
              "      <td>Federative Republic of Brazil</td>\n",
              "      <td>BRA</td>\n",
              "      <td>50000000</td>\n",
              "      <td>2017</td>\n",
              "      <td>Brazil</td>\n",
              "      <td>2.055506e+12</td>\n",
              "      <td>209288278.0</td>\n",
              "    </tr>\n",
              "  </tbody>\n",
              "</table>\n",
              "</div>"
            ],
            "text/plain": [
              "        id                  countryname_x countrycode   totalamt  year  \\\n",
              "0  P162033  Federative Republic of Brazil         BRA  125000000  2017   \n",
              "1  P158000  Federative Republic of Brazil         BRA          0  2017   \n",
              "2  P163868  Federative Republic of Brazil         BRA  250000000  2017   \n",
              "3  P152285  Federative Republic of Brazil         BRA          0  2017   \n",
              "4  P147158  Federative Republic of Brazil         BRA   50000000  2017   \n",
              "\n",
              "  countryname_y           gdp   population  \n",
              "0        Brazil  2.055506e+12  209288278.0  \n",
              "1        Brazil  2.055506e+12  209288278.0  \n",
              "2        Brazil  2.055506e+12  209288278.0  \n",
              "3        Brazil  2.055506e+12  209288278.0  \n",
              "4        Brazil  2.055506e+12  209288278.0  "
            ]
          },
          "execution_count": 8,
          "metadata": {},
          "output_type": "execute_result"
        }
      ],
      "source": [
        "pd.read_sql('SELECT * FROM merged WHERE year = \"2017\" AND countrycode = \"BRA\"', con = conn).head()"
      ]
    },
    {
      "cell_type": "markdown",
      "metadata": {
        "id": "y_l1fTvvsUJY"
      },
      "source": [
        "# Exercise Part 5\n",
        "\n",
        "Output the data to a SQL database like in the previous exercise; however, this time, put the df_indicator data in one table and the df_projects data in another table. Call the df_indicator table 'indicator' and the df_projects table 'projects'."
      ]
    },
    {
      "cell_type": "code",
      "execution_count": null,
      "metadata": {
        "id": "NHCUpRWIsUJY"
      },
      "outputs": [],
      "source": [
        "import sqlite3\n",
        "\n",
        "# connect to the database\n",
        "# the database file will be worldbank.db\n",
        "# note that sqlite3 will create this database file if it does not exist already\n",
        "conn = sqlite3.connect('worldbank.db')\n",
        "\n",
        "# TODO: output the df_merged dataframe to a SQL table called 'merged'.\n",
        "# HINT: Use the to_sql() method\n",
        "# HINT: Use the conn variable for the connection parameter\n",
        "# HINT: You can use the if_exists parameter like if_exists='replace' to replace a table if it already exists\n"
      ]
    },
    {
      "cell_type": "markdown",
      "metadata": {
        "id": "02LLvSdxsUJa"
      },
      "source": [
        "Run the code cell below to see if your code is working properly. The code cell below runs a SQL query against the worldbank.db database joining the indicator table with the projects table."
      ]
    },
    {
      "cell_type": "code",
      "execution_count": null,
      "metadata": {
        "id": "5z8rHx7VsUJa",
        "outputId": "d675b276-2deb-4fc1-ffd7-2c3d51af480f"
      },
      "outputs": [
        {
          "data": {
            "text/html": [
              "<div>\n",
              "<style scoped>\n",
              "    .dataframe tbody tr th:only-of-type {\n",
              "        vertical-align: middle;\n",
              "    }\n",
              "\n",
              "    .dataframe tbody tr th {\n",
              "        vertical-align: top;\n",
              "    }\n",
              "\n",
              "    .dataframe thead th {\n",
              "        text-align: right;\n",
              "    }\n",
              "</style>\n",
              "<table border=\"1\" class=\"dataframe\">\n",
              "  <thead>\n",
              "    <tr style=\"text-align: right;\">\n",
              "      <th></th>\n",
              "      <th>id</th>\n",
              "      <th>countryname</th>\n",
              "      <th>countrycode</th>\n",
              "      <th>totalamt</th>\n",
              "      <th>year</th>\n",
              "      <th>countryname</th>\n",
              "      <th>countrycode</th>\n",
              "      <th>year</th>\n",
              "      <th>gdp</th>\n",
              "      <th>population</th>\n",
              "    </tr>\n",
              "  </thead>\n",
              "  <tbody>\n",
              "    <tr>\n",
              "      <th>0</th>\n",
              "      <td>P162033</td>\n",
              "      <td>Federative Republic of Brazil</td>\n",
              "      <td>BRA</td>\n",
              "      <td>125000000</td>\n",
              "      <td>2017</td>\n",
              "      <td>Brazil</td>\n",
              "      <td>BRA</td>\n",
              "      <td>2017</td>\n",
              "      <td>2.055506e+12</td>\n",
              "      <td>209288278.0</td>\n",
              "    </tr>\n",
              "    <tr>\n",
              "      <th>1</th>\n",
              "      <td>P158000</td>\n",
              "      <td>Federative Republic of Brazil</td>\n",
              "      <td>BRA</td>\n",
              "      <td>0</td>\n",
              "      <td>2017</td>\n",
              "      <td>Brazil</td>\n",
              "      <td>BRA</td>\n",
              "      <td>2017</td>\n",
              "      <td>2.055506e+12</td>\n",
              "      <td>209288278.0</td>\n",
              "    </tr>\n",
              "    <tr>\n",
              "      <th>2</th>\n",
              "      <td>P163868</td>\n",
              "      <td>Federative Republic of Brazil</td>\n",
              "      <td>BRA</td>\n",
              "      <td>250000000</td>\n",
              "      <td>2017</td>\n",
              "      <td>Brazil</td>\n",
              "      <td>BRA</td>\n",
              "      <td>2017</td>\n",
              "      <td>2.055506e+12</td>\n",
              "      <td>209288278.0</td>\n",
              "    </tr>\n",
              "    <tr>\n",
              "      <th>3</th>\n",
              "      <td>P152285</td>\n",
              "      <td>Federative Republic of Brazil</td>\n",
              "      <td>BRA</td>\n",
              "      <td>0</td>\n",
              "      <td>2017</td>\n",
              "      <td>Brazil</td>\n",
              "      <td>BRA</td>\n",
              "      <td>2017</td>\n",
              "      <td>2.055506e+12</td>\n",
              "      <td>209288278.0</td>\n",
              "    </tr>\n",
              "    <tr>\n",
              "      <th>4</th>\n",
              "      <td>P147158</td>\n",
              "      <td>Federative Republic of Brazil</td>\n",
              "      <td>BRA</td>\n",
              "      <td>50000000</td>\n",
              "      <td>2017</td>\n",
              "      <td>Brazil</td>\n",
              "      <td>BRA</td>\n",
              "      <td>2017</td>\n",
              "      <td>2.055506e+12</td>\n",
              "      <td>209288278.0</td>\n",
              "    </tr>\n",
              "  </tbody>\n",
              "</table>\n",
              "</div>"
            ],
            "text/plain": [
              "        id                    countryname countrycode   totalamt  year  \\\n",
              "0  P162033  Federative Republic of Brazil         BRA  125000000  2017   \n",
              "1  P158000  Federative Republic of Brazil         BRA          0  2017   \n",
              "2  P163868  Federative Republic of Brazil         BRA  250000000  2017   \n",
              "3  P152285  Federative Republic of Brazil         BRA          0  2017   \n",
              "4  P147158  Federative Republic of Brazil         BRA   50000000  2017   \n",
              "\n",
              "  countryname countrycode  year           gdp   population  \n",
              "0      Brazil         BRA  2017  2.055506e+12  209288278.0  \n",
              "1      Brazil         BRA  2017  2.055506e+12  209288278.0  \n",
              "2      Brazil         BRA  2017  2.055506e+12  209288278.0  \n",
              "3      Brazil         BRA  2017  2.055506e+12  209288278.0  \n",
              "4      Brazil         BRA  2017  2.055506e+12  209288278.0  "
            ]
          },
          "execution_count": 10,
          "metadata": {},
          "output_type": "execute_result"
        }
      ],
      "source": [
        "pd.read_sql('SELECT * FROM projects LEFT JOIN indicator ON \\\n",
        "projects.countrycode = indicator.countrycode AND \\\n",
        "projects.year = indicator.year WHERE \\\n",
        "projects.year = \"2017\" AND projects.countrycode = \"BRA\"', con = conn).head()"
      ]
    },
    {
      "cell_type": "code",
      "execution_count": null,
      "metadata": {
        "id": "29a6zmOjsUJb"
      },
      "outputs": [],
      "source": [
        "# commit any changes to the database and close the connection to the database\n",
        "conn.commit()\n",
        "conn.close()"
      ]
    },
    {
      "cell_type": "markdown",
      "metadata": {
        "id": "un6xs7gHsUJc"
      },
      "source": [
        "# Exercise Part 6 (Challenge)\n",
        "\n",
        "SQLite, as its name would suggest, is somewhat limited in its functionality. For example, the Alter Table command only allows you to change a table name or to add a new column to a table. You can't, for example, add a primary key to a table once the table is already created.\n",
        "\n",
        "If you want more control over a sqlite3 database, it's better to use the sqlite3 library directly. Here is an example of how to use the sqlite3 library to create a table in the database, insert a value, and then run a SQL query on the database. Run the code cells below to see the example.\n",
        "\n",
        "### Demo"
      ]
    },
    {
      "cell_type": "code",
      "execution_count": null,
      "metadata": {
        "id": "_fWEtnsJsUJd",
        "outputId": "cddf6497-3d6c-4748-e248-b3034e9d0579"
      },
      "outputs": [
        {
          "data": {
            "text/plain": [
              "[('a', 'Brazil', 'BRA', '100,000', 1970)]"
            ]
          },
          "execution_count": 12,
          "metadata": {},
          "output_type": "execute_result"
        }
      ],
      "source": [
        "# connect to the data base\n",
        "conn = sqlite3.connect('worldbank.db')\n",
        "\n",
        "# get a cursor\n",
        "cur = conn.cursor()\n",
        "\n",
        "# drop the test table in case it already exists\n",
        "cur.execute(\"DROP TABLE IF EXISTS test\")\n",
        "\n",
        "# create the test table including project_id as a primary key\n",
        "cur.execute(\"CREATE TABLE test (project_id TEXT PRIMARY KEY, countryname TEXT, countrycode TEXT, totalamt REAL, year INTEGER);\")\n",
        "\n",
        "# insert a value into the test table\n",
        "cur.execute(\"INSERT INTO test (project_id, countryname, countrycode, totalamt, year) VALUES ('a', 'Brazil', 'BRA', '100,000', 1970);\")\n",
        "\n",
        "# commit changes made to the database\n",
        "conn.commit()\n",
        "\n",
        "# select all from the test table\n",
        "cur.execute(\"SELECT * FROM test\")\n",
        "cur.fetchall()"
      ]
    },
    {
      "cell_type": "code",
      "execution_count": null,
      "metadata": {
        "id": "WKgRanwksUJd"
      },
      "outputs": [],
      "source": [
        "# commit any changes and close the data base\n",
        "conn.close()"
      ]
    },
    {
      "cell_type": "markdown",
      "metadata": {
        "id": "d-KULohZsUJe"
      },
      "source": [
        "### Exercise\n",
        "\n",
        "Now, it's your turn. Use the sqlite3 library to connect to the worldbank.db database. Then:\n",
        "* Create a table, called projects, for the projects data where the primary key is the id of each project.\n",
        "* Create another table, called gdp, that contains the gdp data.\n",
        "* And create another table, called population, that contains the population data.\n",
        "\n",
        "Here is the schema for each table.\n",
        "##### projects\n",
        "\n",
        "* project_id text\n",
        "* countryname text\n",
        "* countrycode text\n",
        "* totalamt real\n",
        "* year integer\n",
        "\n",
        "project_id is the primary key\n",
        "\n",
        "##### gdp\n",
        "* countryname text\n",
        "* countrycode text\n",
        "* year integer\n",
        "* gdp real\n",
        "\n",
        "(countrycode, year) is the primary key\n",
        "\n",
        "##### population\n",
        "* countryname text\n",
        "* countrycode text\n",
        "* year integer\n",
        "* population integer\n",
        "\n",
        "(countrycode, year) is the primary key\n",
        "\n",
        "After setting up the tables, write code that inserts the data into each table. (Note that this database is not normalized. For example, countryname and countrycode are in all three tables. You could make another table with countrycode and countryname and then create a foreign key constraint in the projects, gdp, and population tables. If you'd like an extra challenge, create a country table with countryname and countrycode. Then create the other tables with foreign key constraints).\n",
        "\n",
        "Follow the TODOs in the next few code cells to finish the exercise."
      ]
    },
    {
      "cell_type": "code",
      "execution_count": null,
      "metadata": {
        "id": "Ya9h1xtrsUJg"
      },
      "outputs": [],
      "source": [
        "# connect to the data base\n",
        "conn = sqlite3.connect('worldbank.db')\n",
        "\n",
        "# get a cursor\n",
        "cur = conn.cursor()\n",
        "\n",
        "# drop tables created previously to start fresh\n",
        "cur.execute(\"DROP TABLE IF EXISTS test\")\n",
        "cur.execute(\"DROP TABLE IF EXISTS indicator\")\n",
        "cur.execute(\"DROP TABLE IF EXISTS projects\")\n",
        "cur.execute(\"DROP TABLE IF EXISTS gdp\")\n",
        "cur.execute(\"DROP TABLE IF EXISTS population\")\n",
        "\n",
        "# TODO create the projects table including project_id as a primary key\n",
        "# HINT: Use cur.execute(\"SQL Query\")\n",
        "\n",
        "# TODO: create the gdp table including (countrycode, year) as primary key\n",
        "# HINT: To create a primary key on multiple columns, you can do this:\n",
        "# CREATE TABLE tablename (columna datatype, columnb datatype, columnc dataype, PRIMARY KEY (columna, columnb));\n",
        "\n",
        "# TODO: create the population table including (countrycode, year) as primary key\n",
        "\n",
        "# commit changes to the database. Do this whenever modifying a database\n",
        "conn.commit()"
      ]
    },
    {
      "cell_type": "code",
      "execution_count": null,
      "metadata": {
        "id": "8aNdEelwsUJh"
      },
      "outputs": [],
      "source": [
        "# TODO:insert project values into the projects table\n",
        "# HINT: Use a for loop with the pandas iterrows() method\n",
        "# HINT: The iterrows() method returns two values: an index for each row and a tuple of values\n",
        "# HINT: Some of the values for totalamt and year are NaN. Because you've defined\n",
        "# year and totalamt as numbers, you cannot insert NaN as a value into those columns.\n",
        "# When totaamt or year equal NaN, you'll need to change the value to something numeric\n",
        "# like, for example, zero\n",
        "\n",
        "# commit changes to the dataset after any changes are made\n",
        "conn.commit()"
      ]
    },
    {
      "cell_type": "code",
      "execution_count": null,
      "metadata": {
        "id": "BjouGCBNsUJi"
      },
      "outputs": [],
      "source": [
        "# TODO: insert gdp values into the gdp table\n",
        "\n",
        "# commit changes to the dataset after any changes are made\n",
        "conn.commit()"
      ]
    },
    {
      "cell_type": "code",
      "execution_count": null,
      "metadata": {
        "id": "-Hr92qtOsUJi"
      },
      "outputs": [],
      "source": [
        "# TODO: insert population values into the population table\n",
        "\n",
        "# commit changes to the dataset after any changes are made\n",
        "conn.commit()"
      ]
    },
    {
      "cell_type": "code",
      "execution_count": null,
      "metadata": {
        "id": "9DwZnoIBsUJj",
        "outputId": "defe3574-9e8e-4f8f-84f2-b10061214cfc"
      },
      "outputs": [
        {
          "data": {
            "text/plain": [
              "(15558, 13)"
            ]
          },
          "execution_count": 18,
          "metadata": {},
          "output_type": "execute_result"
        }
      ],
      "source": [
        "# run this command to see if your tables were loaded as expected\n",
        "sqlquery = \"SELECT * FROM projects JOIN gdp JOIN population ON projects.year = gdp.year AND projects.countrycode = gdp.countrycode AND projects.countrycode = population.countrycode AND projects.year=population.year;\"\n",
        "result = pd.read_sql(sqlquery, con=conn)\n",
        "result.shape"
      ]
    },
    {
      "cell_type": "markdown",
      "metadata": {
        "id": "-7OpgeDZsUJk"
      },
      "source": [
        "If everything went well, the code above should output (15558, 13) as the shape of the resulting data frame."
      ]
    },
    {
      "cell_type": "code",
      "execution_count": null,
      "metadata": {
        "id": "JQk_56r4sUJl"
      },
      "outputs": [],
      "source": [
        "# commit any changes and close the database\n",
        "conn.commit()\n",
        "conn.close()"
      ]
    },
    {
      "cell_type": "markdown",
      "metadata": {
        "id": "9w9wDKvdsUJm"
      },
      "source": [
        "# Conclusion\n",
        "\n",
        "Once you have extracted data and transformed it, the final step is to load the data into storage. In this exercise, you stored results into a csv file, a json file, and a SQLite database."
      ]
    }
  ],
  "metadata": {
    "kernelspec": {
      "display_name": "Python 3",
      "language": "python",
      "name": "python3"
    },
    "language_info": {
      "codemirror_mode": {
        "name": "ipython",
        "version": 3
      },
      "file_extension": ".py",
      "mimetype": "text/x-python",
      "name": "python",
      "nbconvert_exporter": "python",
      "pygments_lexer": "ipython3",
      "version": "3.6.3"
    },
    "colab": {
      "provenance": [],
      "include_colab_link": true
    }
  },
  "nbformat": 4,
  "nbformat_minor": 0
}