{
  "cells": [
    {
      "cell_type": "markdown",
      "metadata": {
        "id": "view-in-github",
        "colab_type": "text"
      },
      "source": [
        "<a href=\"https://colab.research.google.com/github/Rafia-Shaikh-eng/Data-Science-Analytics/blob/main/1_combining_data__ETL_Transform.ipynb\" target=\"_parent\"><img src=\"https://colab.research.google.com/assets/colab-badge.svg\" alt=\"Open In Colab\"/></a>"
      ]
    },
    {
      "cell_type": "markdown",
      "metadata": {
        "id": "8rAixxUAe89F"
      },
      "source": [
        "# Combining Data\n",
        "\n",
        "Practice combining data from two different data sets. In the same folder as this Jupyter notebook, there are two csv files:\n",
        "* rural_population_percent.csv\n",
        "* electricity_access_percent.csv\n",
        "\n",
        "They both come from the World Bank Indicators data.\n",
        "* https://data.worldbank.org/indicator/SP.RUR.TOTL.ZS\n",
        "* https://data.worldbank.org/indicator/EG.ELC.ACCS.ZS\n",
        "\n",
        "The rural populaton data represents the percent of a country's population that is rural over time. The electricity access data shows the percentage of people with access to electricity.\n",
        "\n",
        "In this exercise, you will combine these two data sets together into one pandas data frame."
      ]
    },
    {
      "cell_type": "markdown",
      "metadata": {
        "id": "JDt3rKt3e89I"
      },
      "source": [
        "# Exercise 1\n",
        "\n",
        "Combine the two data sets using the [pandas concat method](https://pandas.pydata.org/pandas-docs/stable/merging.html). In other words, find the union of the two data sets."
      ]
    },
    {
      "cell_type": "code",
      "execution_count": null,
      "metadata": {
        "id": "JJo_7gKse89J"
      },
      "outputs": [],
      "source": [
        "# TODO: import the pandas library\n",
        "\n",
        "# TODO: read in each csv file into a separate variable\n",
        "# HINT: remember from the Extract material that these csv file have some formatting issues\n",
        "# HINT: The file paths are 'rural_population_percent.csv' and 'electricity_access_percent.csv'\n",
        "df_rural = None\n",
        "df_electricity = None\n",
        "\n",
        "# TODO: remove the 'Unnamed:62' column from each data set\n",
        "\n",
        "# TODO: combine the two data sets together using the concat method"
      ]
    },
    {
      "cell_type": "markdown",
      "metadata": {
        "id": "sK_JdQZKe89K"
      },
      "source": [
        "# Exercise 2 (Challenge)\n",
        "\n",
        "This exercise is more challenging.\n",
        "\n",
        "The resulting data frame should look like this:\n",
        "\n",
        "|Country Name|Country Code|Year|Rural_Value|Electricity_Value|\n",
        "|--|--|--|--|--|--|\n",
        "|Aruba|ABW|1960|49.224|49.239|\n",
        "... etc.\n",
        "\n",
        "Order the results in the dataframe by country and then by year\n",
        "\n",
        "Here are a few pandas methods that should be helpful:\n",
        "* [melt](http://pandas.pydata.org/pandas-docs/stable/generated/pandas.melt.html)\n",
        "* [drop](https://pandas.pydata.org/pandas-docs/stable/generated/pandas.DataFrame.drop.html)\n",
        "* [merge](https://pandas.pydata.org/pandas-docs/version/0.23/generated/pandas.DataFrame.merge.html)\n",
        "* [sort_values](https://pandas.pydata.org/pandas-docs/stable/generated/pandas.DataFrame.sort_values.html)\n",
        "\n",
        "HINT: You can use country name, country code, and the year as common keys between the data sets"
      ]
    },
    {
      "cell_type": "code",
      "execution_count": null,
      "metadata": {
        "id": "FXbKtt3-e89L"
      },
      "outputs": [],
      "source": [
        "# TODO: merge the data sets together according to the instructions. First, use the\n",
        "# melt method to change the formatting of each data frame so that it looks like this:\n",
        "# Country Name, Country Code, Year, Rural Value\n",
        "# Country Name, Country Code, Year, Electricity Value\n",
        "\n",
        "# TODO: drop any columns from the data frames that aren't needed\n",
        "\n",
        "# TODO: merge the data frames together based on their common columns\n",
        "# in this case, the common columns are Country Name, Country Code, and Year\n",
        "\n",
        "# TODO: sort the results by country and then by year\n",
        "\n",
        "df_combined = None"
      ]
    }
  ],
  "metadata": {
    "kernelspec": {
      "display_name": "Python 3",
      "language": "python",
      "name": "python3"
    },
    "language_info": {
      "codemirror_mode": {
        "name": "ipython",
        "version": 3
      },
      "file_extension": ".py",
      "mimetype": "text/x-python",
      "name": "python",
      "nbconvert_exporter": "python",
      "pygments_lexer": "ipython3",
      "version": "3.6.3"
    },
    "colab": {
      "provenance": [],
      "include_colab_link": true
    }
  },
  "nbformat": 4,
  "nbformat_minor": 0
}