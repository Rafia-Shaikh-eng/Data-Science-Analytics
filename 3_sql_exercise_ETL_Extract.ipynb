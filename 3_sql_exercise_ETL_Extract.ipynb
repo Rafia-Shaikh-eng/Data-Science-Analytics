{
  "cells": [
    {
      "cell_type": "markdown",
      "metadata": {
        "id": "view-in-github",
        "colab_type": "text"
      },
      "source": [
        "<a href=\"https://colab.research.google.com/github/Rafia-Shaikh-eng/Data-Science-Analytics/blob/main/3_sql_exercise_ETL_Extract.ipynb\" target=\"_parent\"><img src=\"https://colab.research.google.com/assets/colab-badge.svg\" alt=\"Open In Colab\"/></a>"
      ]
    },
    {
      "cell_type": "markdown",
      "metadata": {
        "id": "Z6HzVuqwx8nU"
      },
      "source": [
        "# Extract Data from SQL Databases\n",
        "\n",
        "In this workbook, you'll gain experience extracting data from SQL databases. This is an overview of Python tools and assumes you already have experience writing SQL queries."
      ]
    },
    {
      "cell_type": "markdown",
      "metadata": {
        "id": "895QZ_CWx8nf"
      },
      "source": [
        "# Pandas and sqlite3\n",
        "\n",
        "You can use Pandas to open a SQL database or to run a SQL query against a database. There is more than one way to do this depending on the type of SQL database you are working with: the [sqlite3 library](https://www.sqlite.org/about.html) or the [sqlalchemy library](https://www.sqlalchemy.org/). The sqlite3 library can handle sqlite databases. SQLAlchemy can handle sqlite3 as well as other types of SQL databases like MySQL and PostgreSQL.\n",
        "\n",
        "In the same folder as this Jupyter notebook, there is a SQLite database file called \"population_data.db\". SQLite is a database engine meant for single applications. The entire database is contained in one file. You can read more about SQLite [here](https://www.sqlite.org/whentouse.html).\n",
        "\n",
        "In this example, the \"population_data.db\" database contains only one table called \"population_data\". Run the code in the following cells to see how to use a SQLite database with pandas. (If you're curious how the data was converted from a csv file to a database, go to File->Open and click on create_db.py)."
      ]
    },
    {
      "cell_type": "markdown",
      "metadata": {
        "id": "zhGZbXzdx8nj"
      },
      "source": [
        "# SQLite3 and Pandas Example"
      ]
    },
    {
      "cell_type": "code",
      "execution_count": null,
      "metadata": {
        "id": "IyeaKscUx8nl"
      },
      "outputs": [],
      "source": [
        "import sqlite3\n",
        "import pandas as pd\n",
        "\n",
        "# connect to the database\n",
        "conn = sqlite3.connect('population_data.db')\n",
        "\n",
        "# run a query\n",
        "pd.read_sql('SELECT * FROM population_data', conn)"
      ]
    },
    {
      "cell_type": "code",
      "execution_count": null,
      "metadata": {
        "id": "nALDWV_gx8np"
      },
      "outputs": [],
      "source": [
        "pd.read_sql('SELECT \"Country_Name\", \"Country_Code\", \"1960\" FROM population_data', conn)"
      ]
    },
    {
      "cell_type": "markdown",
      "metadata": {
        "id": "oTmUdrbIx8nq"
      },
      "source": [
        "# SQLAlchemy and Pandas example\n",
        "\n",
        "If you are working with a different type of database such as MySQL or PostgreSQL, you can use the SQLAlchemy library with pandas. Here are the instructions for connecting to [different types of databases using SQLAlchemy](http://docs.sqlalchemy.org/en/latest/core/engines.html).\n",
        "\n",
        "Run the code below to see how to connect to the population_data.db database."
      ]
    },
    {
      "cell_type": "code",
      "execution_count": null,
      "metadata": {
        "id": "6Q2hkHRRx8ns"
      },
      "outputs": [],
      "source": [
        "import pandas as pd\n",
        "from sqlalchemy import create_engine\n",
        "\n",
        "###\n",
        "# create a database engine\n",
        "# to find the correct file path, use the python os library:\n",
        "# import os\n",
        "# print(os.getcwd())\n",
        "#\n",
        "###\n",
        "\n",
        "engine = create_engine('sqlite:////home/workspace/3_sql_exercise/population_data.db')\n",
        "pd.read_sql(\"SELECT * FROM population_data\", engine)"
      ]
    },
    {
      "cell_type": "markdown",
      "metadata": {
        "id": "2kg1yruVx8nt"
      },
      "source": [
        "# Exercise\n",
        "\n",
        "Connect to the population_data.db SQLite database, and answer the following questions:\n",
        "1. Write a query that finds the change in population from 1960 to 1961 in Aruba\n",
        "2. Write a query that finds the population of Belgium and also Luxembourg in 1975. The output should have two rows.\n",
        "\n",
        "There is a solution if you go to File->Open->3_sql_exercise_solution.ipynb"
      ]
    }
  ],
  "metadata": {
    "kernelspec": {
      "display_name": "Python 3",
      "language": "python",
      "name": "python3"
    },
    "language_info": {
      "codemirror_mode": {
        "name": "ipython",
        "version": 3
      },
      "file_extension": ".py",
      "mimetype": "text/x-python",
      "name": "python",
      "nbconvert_exporter": "python",
      "pygments_lexer": "ipython3",
      "version": "3.6.3"
    },
    "colab": {
      "provenance": [],
      "include_colab_link": true
    }
  },
  "nbformat": 4,
  "nbformat_minor": 0
}