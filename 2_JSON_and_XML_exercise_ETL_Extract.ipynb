{
  "cells": [
    {
      "cell_type": "markdown",
      "metadata": {
        "id": "view-in-github",
        "colab_type": "text"
      },
      "source": [
        "<a href=\"https://colab.research.google.com/github/Rafia-Shaikh-eng/Data-Science-Analytics/blob/main/2_JSON_and_XML_exercise_ETL_Extract.ipynb\" target=\"_parent\"><img src=\"https://colab.research.google.com/assets/colab-badge.svg\" alt=\"Open In Colab\"/></a>"
      ]
    },
    {
      "cell_type": "markdown",
      "metadata": {
        "id": "rvB8oREKuUCQ"
      },
      "source": [
        "# Extract from JSON and XML\n",
        "\n",
        "You'll now get practice extracting data from JSON and XML. You'll extract the same population data from the previous exercise, except the data will be in a different format.\n",
        "\n",
        "Both JSON and XML are common formats for storing data. XML was established before JSON, and JSON has become more popular over time. They both tend to be used for sending data via web APIs, which you'll learn about later in the lesson.\n",
        "\n",
        "Sometimes, you can obtain the same data in either JSON or XML format. That is the case for this exercise. You'll use the same data except one file is formatted as JSON and the other as XML.\n",
        "\n",
        "There is a solution file for these exercises. Go to File->Open and click on 2_extract_exercise_solution.ipynb."
      ]
    },
    {
      "cell_type": "markdown",
      "metadata": {
        "id": "7d5UOoI5uUCY"
      },
      "source": [
        "# Extract JSON and JSON Exercise\n",
        "\n",
        "First, you'll practice extracting data from a JSON file. Run the cell below to print out the first line of the JSON file."
      ]
    },
    {
      "cell_type": "code",
      "execution_count": null,
      "metadata": {
        "id": "Qvj0T9eYuUCb"
      },
      "outputs": [],
      "source": [
        "###\n",
        "#   Run the following cell.\n",
        "#   This cell loads a function that prints the first n lines of\n",
        "#   a file.\n",
        "#\n",
        "#   Then this function is called on the JSON file to print out\n",
        "#   the first line of the population_data.json file\n",
        "###\n",
        "\n",
        "def print_lines(n, file_name):\n",
        "    f = open(file_name)\n",
        "    for i in range(n):\n",
        "        print(f.readline())\n",
        "    f.close()\n",
        "\n",
        "print_lines(1, 'population_data.json')"
      ]
    },
    {
      "cell_type": "markdown",
      "metadata": {
        "id": "derFKZPBuUCe"
      },
      "source": [
        "The first \"line\" in the file is actually the entire file. JSON is a compact way of representing data in a dictionary-like format. Luckily, pandas has a method to [read in a json file](https://pandas.pydata.org/pandas-docs/stable/generated/pandas.read_json.html).\n",
        "\n",
        "If you open the link with the documentation, you'll see there is an *orient* option that can handle JSON formatted in different ways:\n",
        "```\n",
        "'split' : dict like {index -> [index], columns -> [columns], data -> [values]}\n",
        "'records' : list like [{column -> value}, ... , {column -> value}]\n",
        "'index' : dict like {index -> {column -> value}}\n",
        "'columns' : dict like {column -> {index -> value}}\n",
        "'values' : just the values array\n",
        "```\n",
        "\n",
        "In this case, the JSON is formatted with a 'records' orientation, so you'll need to use that value in the read_json() method. You can tell that the format is 'records' by comparing the pattern in the documentation with the pattern in the JSON file.\n",
        "\n",
        "Next, read in the population_data.json file using pandas."
      ]
    },
    {
      "cell_type": "code",
      "execution_count": null,
      "metadata": {
        "id": "FrTATW2EuUCf"
      },
      "outputs": [],
      "source": [
        "# TODO: Read in the population_data.json file using pandas's\n",
        "# read_json method. Don't forget to specific the orient option\n",
        "# store the results in df_json\n",
        "\n",
        "import pandas as pd\n",
        "df_json = None"
      ]
    },
    {
      "cell_type": "code",
      "execution_count": null,
      "metadata": {
        "id": "O4C7S-5LuUCh"
      },
      "outputs": [],
      "source": [
        "# TODO: Use the head method to see the first few rows of the resulting\n",
        "# dataframe"
      ]
    },
    {
      "cell_type": "markdown",
      "metadata": {
        "id": "JXH0qi2VuUCi"
      },
      "source": [
        "Notice that this population data is the same as the data from the previous exercise. The column order might have changed, but the data is otherwise the same."
      ]
    },
    {
      "cell_type": "markdown",
      "metadata": {
        "id": "1dUmBiAMuUCk"
      },
      "source": [
        "# Other Ways to Read in JSON\n",
        "\n",
        "Besides using pandas to read JSON files, you can use the json library. Run the code cell below to see an example of reading in JSON with the json library. Python treats JSON data like a dictionary."
      ]
    },
    {
      "cell_type": "code",
      "execution_count": null,
      "metadata": {
        "id": "u3tPuf5buUCl"
      },
      "outputs": [],
      "source": [
        "import json\n",
        "\n",
        "# read in the JSON file\n",
        "with open('population_data.json') as f:\n",
        "    json_data = json.load(f)\n",
        "\n",
        "# print the first record in the JSON file\n",
        "print(json_data[0])\n",
        "print('\\n')\n",
        "\n",
        "# show that JSON data is essentially a dictionary\n",
        "print(json_data[0]['Country Name'])\n",
        "print(json_data[0]['Country Code'])"
      ]
    },
    {
      "cell_type": "markdown",
      "metadata": {
        "id": "JzmKlX2CuUCm"
      },
      "source": [
        "# Extract XML\n",
        "\n",
        "Next, you'll work with the same data except now the data is in xml format. Run the next code cell to see what the first fifteen lines of the data file look like."
      ]
    },
    {
      "cell_type": "code",
      "execution_count": null,
      "metadata": {
        "id": "rdj-tveouUCn"
      },
      "outputs": [],
      "source": [
        "# Run the code cell to print out the first 15 lines of the xml file\n",
        "print_lines(15, 'population_data.xml')"
      ]
    },
    {
      "cell_type": "markdown",
      "metadata": {
        "id": "dKwCdH8IuUCo"
      },
      "source": [
        "XML looks very similar to HTML. XML is formatted with tags with values inside the tags. XML is not as easy to navigate as JSON. Pandas cannot read in XML directly. One reason is that tag names are user defined. Every XML file might have different formatting. You can imagine why XML has fallen out of favor relative to JSON."
      ]
    },
    {
      "cell_type": "markdown",
      "metadata": {
        "id": "IxhcTIJyuUCp"
      },
      "source": [
        "### How to read and navigate XML\n",
        "\n",
        "There is a Python library called BeautifulSoup, which makes reading in and parsing XML data easier. Here is the link to the documentation: [Beautiful Soup Documentation](https://www.crummy.com/software/BeautifulSoup/)\n",
        "\n",
        "The find() method will find the first place where an xml element occurs. For example using find('record') will return the first record in the xml file:\n",
        "\n",
        "```xml\n",
        "<record>\n",
        "  <field name=\"Country or Area\" key=\"ABW\">Aruba</field>\n",
        "  <field name=\"Item\" key=\"SP.POP.TOTL\">Population, total</field>\n",
        "  <field name=\"Year\">1960</field>\n",
        "  <field name=\"Value\">54211</field>\n",
        "</record>\n",
        "```\n",
        "\n",
        "The find_all() method returns all of the matching tags. So find_all('record') would return all of the elements with the `<record>` tag.\n",
        "\n",
        "Run the code cells below to get a basic idea of how to navigate XML with BeautifulSoup. To navigate through the xml file, you search for a specific tag using the find() method or find_all() method.\n",
        "\n",
        "Below these code cells, there is an exercise for wrangling the XML data."
      ]
    },
    {
      "cell_type": "code",
      "execution_count": null,
      "metadata": {
        "id": "40NgovtPuUCq"
      },
      "outputs": [],
      "source": [
        "# import the BeautifulSoup library\n",
        "from bs4 import BeautifulSoup\n",
        "\n",
        "# open the population_data.xml file and load into Beautiful Soup\n",
        "with open(\"population_data.xml\") as fp:\n",
        "    soup = BeautifulSoup(fp, \"lxml\") # lxml is the Parser type"
      ]
    },
    {
      "cell_type": "code",
      "execution_count": null,
      "metadata": {
        "id": "JSkxYJjauUCr"
      },
      "outputs": [],
      "source": [
        "# output the first 5 records in the xml file\n",
        "# this is an example of how to navigate the XML document with BeautifulSoup\n",
        "\n",
        "i = 0\n",
        "# use the find_all method to get all record tags in the document\n",
        "for record in soup.find_all('record'):\n",
        "    # use the find_all method to get all fields in each record\n",
        "    i += 1\n",
        "    for record in record.find_all('field'):\n",
        "        print(record['name'], ': ' , record.text)\n",
        "    print()\n",
        "    if i == 5:\n",
        "        break"
      ]
    },
    {
      "cell_type": "markdown",
      "metadata": {
        "id": "nAJP_lp5uUCs"
      },
      "source": [
        "# XML Exercise (Challenge)\n",
        "\n",
        "Create a data frame from the xml file. This exercise is somewhat tricky. One solution would be to convert the xml data into dictionaries and then use the dictionaries to create a data frame.\n",
        "\n",
        "The dataframe should have the following layout:\n",
        "\n",
        "| Country or Area | Year | Item | Value |\n",
        "|----|----|----|----|\n",
        "| Aruba | 1960 | Population, total | 54211 |\n",
        "| Aruba | 1961 | Population, total | 55348 |\n",
        "etc...\n",
        "\n",
        "Technically, extracting XML, transforming the results, and putting it into a data frame is a full ETL pipeline. This exercise is jumping ahead in terms of what's to come later in the lesson. But it's a good chance to familiarize yourself with XML."
      ]
    },
    {
      "cell_type": "code",
      "execution_count": null,
      "metadata": {
        "id": "dPOfD3tkuUCt"
      },
      "outputs": [],
      "source": [
        "# TODO: Create a pandas data frame from the XML data.\n",
        "# HINT: You can use dictionaries to create pandas data frames.\n",
        "# HINT: https://pandas.pydata.org/pandas-docs/stable/generated/pandas.DataFrame.from_dict.html#pandas.DataFrame.from_dict\n",
        "# HINT: You can make a dictionary for each column or for each row (See the link above for more information)\n",
        "# HINT: Modify the code from the previous code cell"
      ]
    },
    {
      "cell_type": "markdown",
      "metadata": {
        "id": "Dt_rrdzeuUCu"
      },
      "source": [
        "# Conclusion\n",
        "\n",
        "Like CSV, JSON and XML are ways to format data. If everything is formatted correctly, JSON is especially easy to work with. XML is an older standard and a bit trickier to handle.\n",
        "\n",
        "As a reminder, there is a solution file for these exercises. You can go to File->Open and then click on 2_extract_exercise."
      ]
    }
  ],
  "metadata": {
    "kernelspec": {
      "display_name": "Python 3",
      "language": "python",
      "name": "python3"
    },
    "language_info": {
      "codemirror_mode": {
        "name": "ipython",
        "version": 3
      },
      "file_extension": ".py",
      "mimetype": "text/x-python",
      "name": "python",
      "nbconvert_exporter": "python",
      "pygments_lexer": "ipython3",
      "version": "3.6.3"
    },
    "colab": {
      "provenance": [],
      "include_colab_link": true
    }
  },
  "nbformat": 4,
  "nbformat_minor": 0
}