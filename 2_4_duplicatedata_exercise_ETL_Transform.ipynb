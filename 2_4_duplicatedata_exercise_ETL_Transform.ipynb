{
  "cells": [
    {
      "cell_type": "markdown",
      "metadata": {
        "id": "view-in-github",
        "colab_type": "text"
      },
      "source": [
        "<a href=\"https://colab.research.google.com/github/Rafia-Shaikh-eng/Data-Science-Analytics/blob/main/2_4_duplicatedata_exercise_ETL_Transform.ipynb\" target=\"_parent\"><img src=\"https://colab.research.google.com/assets/colab-badge.svg\" alt=\"Open In Colab\"/></a>"
      ]
    },
    {
      "cell_type": "markdown",
      "metadata": {
        "id": "tMZu9dCwIdfl"
      },
      "source": [
        "# Duplicate Data\n",
        "\n",
        "A data set might have duplicate data: in other words, the same record is represented multiple times. Sometimes, it's easy to find and eliminate duplicate data like when two records are exactly the same. At other times, like what was discussed in the video, duplicate data is hard to spot.\n",
        "\n",
        "# Exercise 1\n",
        "\n",
        "From the World Bank GDP data, count the number of countries that have had a project totalamt greater than 1 billion dollars (1,000,000,000). To get the count, you'll have to remove duplicate data rows."
      ]
    },
    {
      "cell_type": "code",
      "execution_count": null,
      "metadata": {
        "id": "kCsFKR-HIdft"
      },
      "outputs": [],
      "source": [
        "import pandas as pd\n",
        "\n",
        "# read in the projects data set and do some basic wrangling\n",
        "projects = pd.read_csv('../data/projects_data.csv', dtype=str)\n",
        "projects.drop('Unnamed: 56', axis=1, inplace=True)\n",
        "projects['totalamt'] = pd.to_numeric(projects['totalamt'].str.replace(',', ''))\n",
        "projects['countryname'] = projects['countryname'].str.split(';', expand=True)[0]\n",
        "projects['boardapprovaldate'] = pd.to_datetime(projects['boardapprovaldate'])\n",
        "\n",
        "# TODO: filter the data frame for projects over 1 billion dollars\n",
        "# TODO: count the number of unique countries in the results"
      ]
    },
    {
      "cell_type": "markdown",
      "metadata": {
        "id": "vEXzoVMUIdfx"
      },
      "source": [
        "# Exercise 2 (challenge)\n",
        "\n",
        "This exercise is more challenging. The projects data set contains data about Yugoslavia, which was an Eastern European country until 1992. Yugoslavia eventually broke up into 7 countries: Bosnia and Herzegovina, Croatia, Kosovo, Macedonia, Montenegro, Serbia, and Slovenia.\n",
        "\n",
        "But the projects dataset has some ambiguity in how it treats Yugoslavia and the 7 countries that came from Yugoslavia. Your task is to find Yugoslavia projects that are probably represented multiple times in the data set."
      ]
    },
    {
      "cell_type": "code",
      "execution_count": null,
      "metadata": {
        "id": "NUMk7jT2Idfy"
      },
      "outputs": [],
      "source": [
        "# TODO: output all projects for the 'Socialist Federal Republic of Yugoslavia'\n",
        "# HINT: You can use the exact country name or use the pandas str.contains() method to search for Yugoslavia"
      ]
    },
    {
      "cell_type": "markdown",
      "metadata": {
        "id": "a2tF7aIHIdfz"
      },
      "source": [
        "Yugoslavia officially ended on [April 27th, 1992](https://en.wikipedia.org/wiki/Yugoslavia).\n",
        "\n",
        "In the code cell below, filter for projects with a 'boardapprovaldate' prior to April 27th, 1992 **and** with 'countryname' Bosnia and Herzegovina, Croatia, Kosovo, Macedonia, Serbia **or** Slovenia. You'll see there are a total of 12 projects in the data set that match this criteria. Save the results in the republics variable"
      ]
    },
    {
      "cell_type": "code",
      "execution_count": null,
      "metadata": {
        "id": "_PyxddJeIdf0"
      },
      "outputs": [],
      "source": [
        "import datetime\n",
        "\n",
        "# TODO: filter the projects data set for project boardapprovaldate prior to April 27th, 1992 AND with countryname\n",
        "#  of either 'Bosnia and Herzegovina', 'Croatia', 'Kosovo', 'Macedonia', 'Serbia', or 'Sovenia'. Store the\n",
        "#  results in the republics variable\n",
        "#\n",
        "#  TODO: so that it's easier to see all the data, keep only these columns:\n",
        "# ['regionname', 'countryname', 'lendinginstr', 'totalamt', 'boardapprovaldate',\n",
        "# 'location','GeoLocID', 'GeoLocName', 'Latitude','Longitude','Country', 'project_name']\n",
        "\n",
        "# TODO: sort the results by boardapprovaldate\n",
        "\n",
        "republics = None\n",
        "\n",
        "# show the results\n",
        "republics"
      ]
    },
    {
      "cell_type": "markdown",
      "metadata": {
        "id": "CeFh1GxzIdf1"
      },
      "source": [
        "Are these projects also represented in the data labeled Yugoslavia? In the code cell below, filter for Yugoslavia projects approved between February 1st, 1980 and May 23rd, 1989 which are the minimum and maximum dates in the results above. Store the results in the yugoslavia variable.\n",
        "\n",
        "The goal is to see if there are any projects represented more than once in the data set."
      ]
    },
    {
      "cell_type": "code",
      "execution_count": null,
      "metadata": {
        "id": "XOFPv3BfIdf1"
      },
      "outputs": [],
      "source": [
        "# TODO: Filter the projects data for Yugoslavia projects between\n",
        "# February 1st, 1980 and May 23rd, 1989. Store the results in the\n",
        "# Yugoslavia variable. Keep the same columns as the previous code cell.\n",
        "# Sort the values by boardapprovaldate\n",
        "\n",
        "yugoslavia = None\n",
        "\n",
        "# show the results\n",
        "yugoslavia"
      ]
    },
    {
      "cell_type": "markdown",
      "metadata": {
        "id": "kwfCY4ipIdf2"
      },
      "source": [
        "And as a final step, try to see if there are any projects in the republics variable and yugoslavia variable that could be the same project.\n",
        "\n",
        "There are multiple ways to do that. As a suggestion, find unique dates in the republics variable. Then separately find unique dates in the yugoslavia variable. Concatenate (ie append) the results together. And then count the number of times each date occurs in this list. If a date occurs twice, that means the same boardapprovaldate appeared in both the Yugoslavia data as well as in the republics data.\n",
        "\n",
        "You'll should find that there are three suspicious cases:\n",
        "\n",
        "* July 26th, 1983\n",
        "* March 31st, 1987\n",
        "* October 13th, 1987\n",
        "* May 23rd, 1989"
      ]
    },
    {
      "cell_type": "code",
      "execution_count": null,
      "metadata": {
        "id": "lCh7hg7bIdf3"
      },
      "outputs": [],
      "source": [
        "import numpy as np\n",
        "\n",
        "# TODO: find the unique dates in the republics variable\n",
        "republic_unique_dates = None\n",
        "\n",
        "# TODO: find the unique dates in the yugoslavia variable\n",
        "yugoslavia_unique_dates = None\n",
        "\n",
        "# TODO: make a list of the results appending one list to the other\n",
        "dates = None\n",
        "\n",
        "# TODO: print out the dates that appeared twice in the results"
      ]
    },
    {
      "cell_type": "markdown",
      "metadata": {
        "id": "WB_UZZoBIdf5"
      },
      "source": [
        "# Conclusion\n",
        "\n",
        "On July 26th, 1983, for example, projects were approved for Bosnia and Herzegovina, Croatia, Macedonia, Slovenia, and Yugoslavia. The code below shows the projects for that date. You'll notice that Yugoslavia had two projects, one of which was called \"Power Transmission Project (03) Energy Managem...\". The projects in the other countries were all called \"POWER TRANS.III\".\n",
        "\n",
        "This looks like a case of duplicate data. What you end up doing with this knowledge would depend on the context. For example, if you wanted to get a true count for the total number of projects in the data set, should all of these projects be counted as one project?\n",
        "\n",
        "Run the code cell below to see the projects in question."
      ]
    },
    {
      "cell_type": "code",
      "execution_count": null,
      "metadata": {
        "id": "OdKdhS03Idf6"
      },
      "outputs": [],
      "source": [
        "import datetime\n",
        "\n",
        "# run this code cell to see the duplicate data\n",
        "pd.concat([yugoslavia[yugoslavia['boardapprovaldate'] == datetime.date(1983, 7, 26)], republics[republics['boardapprovaldate'] == datetime.date(1983, 7, 26)]])"
      ]
    },
    {
      "cell_type": "code",
      "execution_count": null,
      "metadata": {
        "id": "_yOBZJbAIdf7"
      },
      "outputs": [],
      "source": []
    }
  ],
  "metadata": {
    "kernelspec": {
      "display_name": "Python 3",
      "language": "python",
      "name": "python3"
    },
    "language_info": {
      "codemirror_mode": {
        "name": "ipython",
        "version": 3
      },
      "file_extension": ".py",
      "mimetype": "text/x-python",
      "name": "python",
      "nbconvert_exporter": "python",
      "pygments_lexer": "ipython3",
      "version": "3.6.3"
    },
    "colab": {
      "provenance": [],
      "include_colab_link": true
    }
  },
  "nbformat": 4,
  "nbformat_minor": 0
}