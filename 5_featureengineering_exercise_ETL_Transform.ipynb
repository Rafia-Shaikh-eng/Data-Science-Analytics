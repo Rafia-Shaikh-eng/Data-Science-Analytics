{
  "cells": [
    {
      "cell_type": "markdown",
      "metadata": {
        "id": "view-in-github",
        "colab_type": "text"
      },
      "source": [
        "<a href=\"https://colab.research.google.com/github/Rafia-Shaikh-eng/Data-Science-Analytics/blob/main/5_featureengineering_exercise_ETL_Transform.ipynb\" target=\"_parent\"><img src=\"https://colab.research.google.com/assets/colab-badge.svg\" alt=\"Open In Colab\"/></a>"
      ]
    },
    {
      "cell_type": "markdown",
      "metadata": {
        "id": "j4dTayWvm3Kz"
      },
      "source": [
        "# Feature Engineering\n",
        "\n",
        "Practice creating new features from the GDP and population data.\n",
        "\n",
        "You'll create a new feature gdppercapita, which is GDP divided by population. You'll then write code to create new features like GDP squared and GDP cubed.\n",
        "\n",
        "Start by running the code below. It reads in the World Bank data, filters the data for the year 2016, and cleans the data."
      ]
    },
    {
      "cell_type": "code",
      "execution_count": null,
      "metadata": {
        "id": "j-pTnCq3m3K8"
      },
      "outputs": [],
      "source": [
        "import pandas as pd\n",
        "import numpy as np\n",
        "import matplotlib.pyplot as plt\n",
        "%matplotlib inline\n",
        "\n",
        "# read in the projects data set and do basic wrangling\n",
        "gdp = pd.read_csv('../data/gdp_data.csv', skiprows=4)\n",
        "gdp.drop(['Unnamed: 62', 'Country Code', 'Indicator Name', 'Indicator Code'], inplace=True, axis=1)\n",
        "population = pd.read_csv('../data/population_data.csv', skiprows=4)\n",
        "population.drop(['Unnamed: 62', 'Country Code', 'Indicator Name', 'Indicator Code'], inplace=True, axis=1)\n",
        "\n",
        "\n",
        "# Reshape the data sets so that they are in long format\n",
        "gdp_melt = gdp.melt(id_vars=['Country Name'],\n",
        "                    var_name='year',\n",
        "                    value_name='gdp')\n",
        "\n",
        "# Use back fill and forward fill to fill in missing gdp values\n",
        "gdp_melt['gdp'] = gdp_melt.sort_values('year').groupby('Country Name')['gdp'].fillna(method='ffill').fillna(method='bfill')\n",
        "\n",
        "population_melt = population.melt(id_vars=['Country Name'],\n",
        "                                  var_name='year',\n",
        "                                  value_name='population')\n",
        "\n",
        "# Use back fill and forward fill to fill in missing population values\n",
        "population_melt['population'] = population_melt.sort_values('year').groupby('Country Name')['population'].fillna(method='ffill').fillna(method='bfill')\n",
        "\n",
        "# merge the population and gdp data together into one data frame\n",
        "df_country = gdp_melt.merge(population_melt, on=('Country Name', 'year'))\n",
        "\n",
        "# filter data for the year 2016\n",
        "df_2016 = df_country[df_country['year'] == '2016']\n",
        "\n",
        "# filter out values that are not countries\n",
        "non_countries = ['World',\n",
        " 'High income',\n",
        " 'OECD members',\n",
        " 'Post-demographic dividend',\n",
        " 'IDA & IBRD total',\n",
        " 'Low & middle income',\n",
        " 'Middle income',\n",
        " 'IBRD only',\n",
        " 'East Asia & Pacific',\n",
        " 'Europe & Central Asia',\n",
        " 'North America',\n",
        " 'Upper middle income',\n",
        " 'Late-demographic dividend',\n",
        " 'European Union',\n",
        " 'East Asia & Pacific (excluding high income)',\n",
        " 'East Asia & Pacific (IDA & IBRD countries)',\n",
        " 'Euro area',\n",
        " 'Early-demographic dividend',\n",
        " 'Lower middle income',\n",
        " 'Latin America & Caribbean',\n",
        " 'Latin America & the Caribbean (IDA & IBRD countries)',\n",
        " 'Latin America & Caribbean (excluding high income)',\n",
        " 'Europe & Central Asia (IDA & IBRD countries)',\n",
        " 'Middle East & North Africa',\n",
        " 'Europe & Central Asia (excluding high income)',\n",
        " 'South Asia (IDA & IBRD)',\n",
        " 'South Asia',\n",
        " 'Arab World',\n",
        " 'IDA total',\n",
        " 'Sub-Saharan Africa',\n",
        " 'Sub-Saharan Africa (IDA & IBRD countries)',\n",
        " 'Sub-Saharan Africa (excluding high income)',\n",
        " 'Middle East & North Africa (excluding high income)',\n",
        " 'Middle East & North Africa (IDA & IBRD countries)',\n",
        " 'Central Europe and the Baltics',\n",
        " 'Pre-demographic dividend',\n",
        " 'IDA only',\n",
        " 'Least developed countries: UN classification',\n",
        " 'IDA blend',\n",
        " 'Fragile and conflict affected situations',\n",
        " 'Heavily indebted poor countries (HIPC)',\n",
        " 'Low income',\n",
        " 'Small states',\n",
        " 'Other small states',\n",
        " 'Not classified',\n",
        " 'Caribbean small states',\n",
        " 'Pacific island small states']\n",
        "\n",
        "# remove non countries from the data\n",
        "df_2016 = df_2016[~df_2016['Country Name'].isin(non_countries)]\n",
        "df_2016.reset_index(inplace=True, drop=True)"
      ]
    },
    {
      "cell_type": "markdown",
      "metadata": {
        "id": "XokDiSfBm3LE"
      },
      "source": [
        "# Exercise 1\n",
        "\n",
        "Create a new feature called gdppercapita in a new column. This feature should be the gdp value divided by the population."
      ]
    },
    {
      "cell_type": "code",
      "execution_count": null,
      "metadata": {
        "id": "ld1KchLdm3LF"
      },
      "outputs": [],
      "source": [
        "# TODO: create a new feature called gdppercapita,\n",
        "#      which is the gdp value divided by the population value for each country\n",
        "\n",
        "df_2016['gdppercapita'] = None"
      ]
    },
    {
      "cell_type": "markdown",
      "metadata": {
        "id": "1-rDt_5om3LH"
      },
      "source": [
        "# Exercise 2 (Challenge)\n",
        "\n",
        "This next exercise is more challenging and assumes you know how to use the pandas apply() method as well as lambda functions.\n",
        "\n",
        "Write code that creates multiples of a feature. For example, if you take the 'gdp' column and an integer like 3, you want to append a new column with the square of gdp (gdp^2) and another column with the cube of gdp (gdp^3).\n",
        "\n",
        "Follow the TODOs below. These functions build on each other in the following way:\n",
        "\n",
        "create_multiples(b, k) has two inputs. The first input, b, is a floating point number. The second number, k, is an integer. The output is a list of multiples of b. For example create_multiples(3, 4) would return this list: $[3^2, 3^3, 3^4]$ or in other words $[9, 27, 81]$.\n",
        "\n",
        "Then the column_name_generator(colname, k) function outputs a list of column names. For example, column_name_generator('gdp', 4) would output a list of strings `['gdp2', 'gdp3', 'gdp4']`."
      ]
    },
    {
      "cell_type": "markdown",
      "metadata": {
        "id": "a5aW713qm3LJ"
      },
      "source": [
        "And finally, concatenate_features(df, column, num_columns) uses the two previous functions to create the new columns and then append these new columns to the original data frame."
      ]
    },
    {
      "cell_type": "code",
      "execution_count": null,
      "metadata": {
        "id": "adJ8C5Hqm3LK"
      },
      "outputs": [],
      "source": [
        "# TODO: Fill out the create_multiples function.\n",
        "# The create_multiples function has two inputs. A floating point number and an integer.\n",
        "# The output is a list of multiples of the input b starting from the square of b and ending at b^k.\n",
        "\n",
        "def create_multiples(b, k):\n",
        "\n",
        "    # TODO: use a for loop to make a list of multiples of b: ie b^2, b^3, b^4, etc... until b^k\n",
        "    # You do not need to include b^0, which would be 1. You also do not need b^1 because that feature\n",
        "    # is already in data frame.\n",
        "\n",
        "    new_features = []\n",
        "\n",
        "    return new_features\n",
        "\n",
        "# TODO: Fill out the column_name_generator function.\n",
        "# The function has two inputs: a string representing a column name and an integer k.\n",
        "# The 'k' variable is the same as the create_multiples function.\n",
        "# The output should be a list of column names.\n",
        "# For example if the inputs are ('gdp', 4) then the output is a list of strings ['gdp2', 'gdp3', gdp4']\n",
        "def column_name_generator(colname, k):\n",
        "\n",
        "    col_names = []\n",
        "\n",
        "    return col_names\n",
        "\n",
        "# TODO: Fill out the concatenate_features function.\n",
        "# The function has three inputs. A dataframe, a column name represented by a string, and an integer representing\n",
        "# the maximum power to create when engineering features.\n",
        "\n",
        "# If the input is (df_2016, 'gdp', 3), then the output will be the df_2016 dataframe with two new columns\n",
        "# One new column will be 'gdp2' ie gdp^2, and then other column will be 'gdp3' ie gdp^3.\n",
        "\n",
        "# HINT: There may be more than one way to do this.\n",
        "# The TODOs in this section point you towards one way that works\n",
        "def concatenate_features(df, column, num_columns):\n",
        "\n",
        "    # TODO: Use the pandas apply() method to create the new features. Inside the apply method, you\n",
        "    # can use a lambda function with the create_mtuliples function\n",
        "    # HINT: df[column].apply(lambda ....)\n",
        "    new_features = None\n",
        "\n",
        "    # TODO: Create a dataframe with a separate column for each of the new features\n",
        "    # Use the column_name_generator() function to create the column names\n",
        "\n",
        "    # HINT: In the pd.DataFrame() method, you can specify column names inputting a list in the columns option\n",
        "    # HINT: Using new_features.tolist() might be helpful\n",
        "    new_features_df = None\n",
        "\n",
        "    # TODO: concatenate the original date frame in df with the new_features_df dataframe\n",
        "    # return this concatenated dataframe\n",
        "\n",
        "    return None"
      ]
    },
    {
      "cell_type": "markdown",
      "metadata": {
        "id": "g5NHULCIm3LN"
      },
      "source": [
        "# Solution\n",
        "\n",
        "Run the code cell below. If your code is correct, you should get a dataframe with 8 columns. Here are the first two rows of what your results should look like.\n",
        "\n",
        "| Country Name | year | gdp          | population | gdppercapita | gdp2         | gdp3         | gdp4         |\n",
        "|--------------|------|--------------|------------|--------------|--------------|--------------|--------------|\n",
        "| Aruba        | 2016 | 2.584464e+09 | 104822.0   | 24655.737223 | 6.679453e+18 | 1.726280e+28 | 4.461509e+37 |\n",
        "| Afghanistan  | 2016 | 1.946902e+10 | 34656032.0 | 561.778746   | 3.790428e+20 | 7.379593e+30 | 1.436735e+41 |\n",
        "\n",
        "\n",
        "\n",
        "\n",
        "There is a solution in the 16_featureengineering_exercise folder if you go to File->Open."
      ]
    },
    {
      "cell_type": "code",
      "execution_count": null,
      "metadata": {
        "id": "rKxfqDSNm3LO"
      },
      "outputs": [],
      "source": [
        "concatenate_features(df_2016, 'gdp', 4)"
      ]
    }
  ],
  "metadata": {
    "kernelspec": {
      "display_name": "Python 3",
      "language": "python",
      "name": "python3"
    },
    "language_info": {
      "codemirror_mode": {
        "name": "ipython",
        "version": 3
      },
      "file_extension": ".py",
      "mimetype": "text/x-python",
      "name": "python",
      "nbconvert_exporter": "python",
      "pygments_lexer": "ipython3",
      "version": "3.6.3"
    },
    "colab": {
      "provenance": [],
      "include_colab_link": true
    }
  },
  "nbformat": 4,
  "nbformat_minor": 0
}